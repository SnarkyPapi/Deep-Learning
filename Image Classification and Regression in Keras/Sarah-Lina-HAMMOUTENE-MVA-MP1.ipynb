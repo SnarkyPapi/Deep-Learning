{
 "cells": [
  {
   "cell_type": "markdown",
   "metadata": {},
   "source": [
    "# ------------------------------------------------------------------------\n",
    "# Mini Project 01\n",
    "## Sarah Lina HAMMOUTENE\n",
    "## MSc DSBA - ESSEC & CentraleSupélec\n",
    "# ------------------------------------------------------------------------"
   ]
  },
  {
   "cell_type": "code",
   "execution_count": 136,
   "metadata": {
    "collapsed": true
   },
   "outputs": [],
   "source": [
    "import matplotlib.pyplot as plt\n",
    "%matplotlib inline\n",
    "import numpy as np\n",
    "import matplotlib.patches as patches\n",
    "import random as rd"
   ]
  },
  {
   "cell_type": "code",
   "execution_count": 2,
   "metadata": {},
   "outputs": [
    {
     "name": "stderr",
     "output_type": "stream",
     "text": [
      "Using TensorFlow backend.\n"
     ]
    }
   ],
   "source": [
    "from keras.utils import to_categorical\n",
    "from keras.layers import Dense\n",
    "from keras.layers import Reshape\n",
    "from keras.models import Sequential\n",
    "from keras.callbacks import EarlyStopping\n",
    "from keras import optimizers\n",
    "from keras.layers import Conv2D, MaxPooling2D\n",
    "from keras.layers import Flatten\n",
    "from keras.layers import UpSampling2D\n",
    "from keras.models import Model\n",
    "from keras.layers import Dropout\n",
    "from keras.layers import Dropout, Activation, Flatten"
   ]
  },
  {
   "cell_type": "code",
   "execution_count": 3,
   "metadata": {
    "collapsed": true
   },
   "outputs": [],
   "source": [
    "early_stopping_monitor = EarlyStopping(patience=3)"
   ]
  },
  {
   "cell_type": "markdown",
   "metadata": {},
   "source": [
    "# ------------------------------------------------------------------------\n",
    "# 1. Getting Started\n",
    "# ------------------------------------------------------------------------"
   ]
  },
  {
   "cell_type": "code",
   "execution_count": 4,
   "metadata": {
    "collapsed": true
   },
   "outputs": [],
   "source": [
    "def generate_a_drawing(figsize, U, V, noise=0.0):\n",
    "    fig = plt.figure(figsize=(figsize,figsize))\n",
    "    ax = plt.subplot(111)\n",
    "    plt.axis('Off')\n",
    "    ax.set_xlim(0,figsize)\n",
    "    ax.set_ylim(0,figsize)\n",
    "    ax.fill(U, V, \"k\")\n",
    "    fig.canvas.draw()\n",
    "    imdata = np.frombuffer(fig.canvas.tostring_rgb(), dtype=np.uint8)[::3].astype(np.float32)\n",
    "    imdata = imdata + noise * np.random.random(imdata.size)\n",
    "    plt.close(fig)\n",
    "    return imdata"
   ]
  },
  {
   "cell_type": "code",
   "execution_count": 5,
   "metadata": {
    "collapsed": true
   },
   "outputs": [],
   "source": [
    "def generate_a_rectangle(noise=0.0, free_location=False):\n",
    "    figsize = 1.0    \n",
    "    U = np.zeros(4)\n",
    "    V = np.zeros(4)\n",
    "    if free_location:\n",
    "        corners = np.random.random(4)\n",
    "        top = max(corners[0], corners[1])\n",
    "        bottom = min(corners[0], corners[1])\n",
    "        left = min(corners[2], corners[3])\n",
    "        right = max(corners[2], corners[3])\n",
    "    else:\n",
    "        side = (0.3 + 0.7 * np.random.random()) * figsize\n",
    "        top = figsize/2 + side/2\n",
    "        bottom = figsize/2 - side/2\n",
    "        left = bottom\n",
    "        right = top\n",
    "    U[0] = U[1] = top\n",
    "    U[2] = U[3] = bottom\n",
    "    V[0] = V[3] = left\n",
    "    V[1] = V[2] = right\n",
    "    return generate_a_drawing(figsize, U, V, noise)"
   ]
  },
  {
   "cell_type": "code",
   "execution_count": 6,
   "metadata": {
    "collapsed": true
   },
   "outputs": [],
   "source": [
    "def generate_a_disk(noise=0.0, free_location=False):\n",
    "    figsize = 1.0\n",
    "    if free_location:\n",
    "        center = np.random.random(2)\n",
    "    else:\n",
    "        center = (figsize/2, figsize/2)\n",
    "    radius = (0.3 + 0.7 * np.random.random()) * figsize/2\n",
    "    N = 50\n",
    "    U = np.zeros(N)\n",
    "    V = np.zeros(N)\n",
    "    i = 0\n",
    "    for t in np.linspace(0, 2*np.pi, N):\n",
    "        U[i] = center[0] + np.cos(t) * radius\n",
    "        V[i] = center[1] + np.sin(t) * radius\n",
    "        i = i + 1\n",
    "    return generate_a_drawing(figsize, U, V, noise)"
   ]
  },
  {
   "cell_type": "code",
   "execution_count": 7,
   "metadata": {
    "collapsed": true
   },
   "outputs": [],
   "source": [
    "def generate_a_triangle(noise=0.0, free_location=False):\n",
    "    figsize = 1.0\n",
    "    if free_location:\n",
    "        U = np.random.random(3)\n",
    "        V = np.random.random(3)\n",
    "    else:\n",
    "        size = (0.3 + 0.7 * np.random.random())*figsize/2\n",
    "        middle = figsize/2\n",
    "        U = (middle, middle+size, middle-size)\n",
    "        V = (middle+size, middle-size, middle-size)\n",
    "    imdata = generate_a_drawing(figsize, U, V, noise)\n",
    "    return [imdata, [U[0], V[0], U[1], V[1], U[2], V[2]]]"
   ]
  },
  {
   "cell_type": "code",
   "execution_count": 8,
   "metadata": {},
   "outputs": [
    {
     "data": {
      "text/plain": [
       "<matplotlib.image.AxesImage at 0x181b1f31d0>"
      ]
     },
     "execution_count": 8,
     "metadata": {},
     "output_type": "execute_result"
    },
    {
     "data": {
      "image/png": "[encoded data removed]",
      "text/plain": [
       "<matplotlib.figure.Figure at 0x18160f0950>"
      ]
     },
     "metadata": {},
     "output_type": "display_data"
    }
   ],
   "source": [
    "im = generate_a_rectangle(10, True)\n",
    "plt.imshow(im.reshape(72,72), cmap='gray')"
   ]
  },
  {
   "cell_type": "code",
   "execution_count": 9,
   "metadata": {},
   "outputs": [
    {
     "data": {
      "text/plain": [
       "<matplotlib.image.AxesImage at 0x181ddcc050>"
      ]
     },
     "execution_count": 9,
     "metadata": {},
     "output_type": "execute_result"
    },
    {
     "data": {
      "image/png": "[encoded data removed]",
      "text/plain": [
       "<matplotlib.figure.Figure at 0x181b3c3bd0>"
      ]
     },
     "metadata": {},
     "output_type": "display_data"
    }
   ],
   "source": [
    "im = generate_a_disk(10)\n",
    "plt.imshow(im.reshape(72,72), cmap='gray')"
   ]
  },
  {
   "cell_type": "code",
   "execution_count": 10,
   "metadata": {},
   "outputs": [
    {
     "data": {
      "text/plain": [
       "<matplotlib.image.AxesImage at 0x181dfddcd0>"
      ]
     },
     "execution_count": 10,
     "metadata": {},
     "output_type": "execute_result"
    },
    {
     "data": {
      "image/png": "[encoded data removed]",
      "text/plain": [
       "<matplotlib.figure.Figure at 0x181de6a850>"
      ]
     },
     "metadata": {},
     "output_type": "display_data"
    }
   ],
   "source": [
    "[im, v] = generate_a_triangle(20, False)\n",
    "plt.imshow(im.reshape(72,72), cmap='gray')"
   ]
  },
  {
   "cell_type": "code",
   "execution_count": 11,
   "metadata": {
    "collapsed": true
   },
   "outputs": [],
   "source": [
    "def generate_dataset_classification(nb_samples, noise=0.0, free_location=False):\n",
    "    # Getting im_size:\n",
    "    im_size = generate_a_rectangle().shape[0]\n",
    "    X = np.zeros([nb_samples,im_size])\n",
    "    Y = np.zeros(nb_samples)\n",
    "    print('Creating data-----')\n",
    "    for i in range(nb_samples):\n",
    "      #  if i % 10 == 0:\n",
    "       #     print(i)\n",
    "        category = np.random.randint(3)\n",
    "        if category == 0:\n",
    "            X[i] = generate_a_rectangle(noise, free_location)\n",
    "        elif category == 1: \n",
    "            X[i] = generate_a_disk(noise, free_location)\n",
    "        else:\n",
    "            [X[i], V] = generate_a_triangle(noise, free_location)\n",
    "        Y[i] = category\n",
    "    X = (X + noise) / (255 + 2 * noise)\n",
    "    print('Data Created')\n",
    "    return [X, Y]"
   ]
  },
  {
   "cell_type": "code",
   "execution_count": 12,
   "metadata": {
    "collapsed": true
   },
   "outputs": [],
   "source": [
    "def generate_test_set_classification():\n",
    "    np.random.seed(42)\n",
    "    [X_test, Y_test] = generate_dataset_classification(300, 20, True)\n",
    "    Y_test = to_categorical(Y_test, 3) \n",
    "    return [X_test, Y_test]"
   ]
  },
  {
   "cell_type": "code",
   "execution_count": 13,
   "metadata": {
    "collapsed": true
   },
   "outputs": [],
   "source": [
    "def generate_dataset_regression(nb_samples, noise=0.0):\n",
    "    # Getting im_size:\n",
    "    im_size = generate_a_triangle()[0].shape[0]\n",
    "    X = np.zeros([nb_samples,im_size])\n",
    "    Y = np.zeros([nb_samples, 6])\n",
    "    print('Creating data-----')\n",
    "    for i in range(nb_samples):\n",
    "       # if i % 10 == 0:\n",
    "         #   print(i)\n",
    "        [X[i], Y[i]] = generate_a_triangle(noise, True)\n",
    "    X = (X + noise) / (255 + 2 * noise)\n",
    "    print('Data Created')\n",
    "    return [X, Y]"
   ]
  },
  {
   "cell_type": "code",
   "execution_count": 149,
   "metadata": {
    "collapsed": true
   },
   "outputs": [],
   "source": [
    "def visualize_prediction(x, y):\n",
    "    fig2, ax2 = plt.subplots(figsize=(5, 5))\n",
    "    I = x.reshape((72,72))\n",
    "    ax2.imshow(I, extent=[-0.15,1.15,-0.15,1.15],cmap='gray')\n",
    "    ax2.set_xlim([0,1])\n",
    "    ax2.set_ylim([0,1])\n",
    "\n",
    "    xy = y.reshape(3,2)\n",
    "    tri = patches.Polygon(xy, closed=True, fill = False, edgecolor = 'r', linewidth = 5, alpha = 0.5)\n",
    "    ax2.add_patch(tri)\n",
    "\n",
    "    plt.show()\n"
   ]
  },
  {
   "cell_type": "code",
   "execution_count": 15,
   "metadata": {
    "collapsed": true
   },
   "outputs": [],
   "source": [
    "def generate_test_set_regression():\n",
    "    np.random.seed(42)\n",
    "    [X_test, Y_test] = generate_dataset_regression(300, 20)\n",
    "   # Y_test = to_categorical(Y_test, 3) \n",
    "    return [X_test, Y_test]"
   ]
  },
  {
   "cell_type": "markdown",
   "metadata": {},
   "source": [
    "# ------------------------------------------------------------------------\n",
    "# 2. Simple Classification\n",
    "# ------------------------------------------------------------------------"
   ]
  },
  {
   "cell_type": "code",
   "execution_count": 16,
   "metadata": {},
   "outputs": [
    {
     "name": "stdout",
     "output_type": "stream",
     "text": [
      "Creating data-----\n",
      "Data Created\n"
     ]
    }
   ],
   "source": [
    "[X_train, Y_train] = generate_dataset_classification(300, 20)"
   ]
  },
  {
   "cell_type": "code",
   "execution_count": 176,
   "metadata": {
    "collapsed": true
   },
   "outputs": [],
   "source": [
    "#Convert the output to categorical\n",
    "target = to_categorical(Y_train)\n",
    "\n",
    "#Get the input shape\n",
    "n_cols = X_train.shape[1]\n",
    "\n",
    "#Set the batch size\n",
    "batch_size = 32"
   ]
  },
  {
   "cell_type": "markdown",
   "metadata": {},
   "source": [
    "### 1.Stochastic Gradient Descent"
   ]
  },
  {
   "cell_type": "code",
   "execution_count": 18,
   "metadata": {
    "collapsed": true
   },
   "outputs": [],
   "source": [
    "model_sgd = Sequential()\n",
    "model_sgd.add(Dense(3, activation='softmax', input_shape = (n_cols,)))\n",
    "model_sgd.compile(optimizer='SGD' ,loss='categorical_crossentropy',metrics=['accuracy'])"
   ]
  },
  {
   "cell_type": "code",
   "execution_count": 19,
   "metadata": {},
   "outputs": [
    {
     "name": "stdout",
     "output_type": "stream",
     "text": [
      "_________________________________________________________________\n",
      "Layer (type)                 Output Shape              Param #   \n",
      "=================================================================\n",
      "dense_1 (Dense)              (None, 3)                 15555     \n",
      "=================================================================\n",
      "Total params: 15,555\n",
      "Trainable params: 15,555\n",
      "Non-trainable params: 0\n",
      "_________________________________________________________________\n"
     ]
    }
   ],
   "source": [
    "model_sgd.summary()"
   ]
  },
  {
   "cell_type": "code",
   "execution_count": 27,
   "metadata": {
    "scrolled": true
   },
   "outputs": [
    {
     "name": "stdout",
     "output_type": "stream",
     "text": [
      "Train on 210 samples, validate on 90 samples\n",
      "Epoch 1/100\n",
      "210/210 [==============================] - 0s 100us/step - loss: 6.0933 - acc: 0.4905 - val_loss: 5.7632 - val_acc: 0.5444\n",
      "Epoch 2/100\n",
      "210/210 [==============================] - 0s 96us/step - loss: 5.9329 - acc: 0.4905 - val_loss: 6.4348 - val_acc: 0.5111\n",
      "Epoch 3/100\n",
      "210/210 [==============================] - 0s 97us/step - loss: 5.5296 - acc: 0.6143 - val_loss: 6.1941 - val_acc: 0.5222\n"
     ]
    },
    {
     "data": {
      "text/plain": [
       "<keras.callbacks.History at 0x1828b20a50>"
      ]
     },
     "execution_count": 27,
     "metadata": {},
     "output_type": "execute_result"
    }
   ],
   "source": [
    "model_sgd.fit(X_train, target, batch_size= batch_size ,validation_split=0.3, epochs=100, callbacks = [early_stopping_monitor])"
   ]
  },
  {
   "cell_type": "code",
   "execution_count": 28,
   "metadata": {
    "collapsed": true
   },
   "outputs": [],
   "source": [
    "X_test_disk = generate_a_disk()\n",
    "X_test_disk = X_test_disk.reshape(1, X_test_disk.shape[0])\n",
    "pred_disk_sgd = model_sgd.predict(X_test_disk)"
   ]
  },
  {
   "cell_type": "code",
   "execution_count": 29,
   "metadata": {},
   "outputs": [
    {
     "data": {
      "text/plain": [
       "array([[ 1.,  0.,  0.]], dtype=float32)"
      ]
     },
     "execution_count": 29,
     "metadata": {},
     "output_type": "execute_result"
    }
   ],
   "source": [
    "pred_disk_sgd"
   ]
  },
  {
   "cell_type": "markdown",
   "metadata": {},
   "source": [
    "### --------It doesn't work "
   ]
  },
  {
   "cell_type": "markdown",
   "metadata": {},
   "source": [
    "- As we can see the Stochastic Gradient Descent gives us an accuracy of around 60 %\n",
    "- In particular for our test, we can clearly see that the predicted class is wrong, here the network's output is a rectangle and we are dealing with a circle "
   ]
  },
  {
   "cell_type": "markdown",
   "metadata": {},
   "source": [
    "# ----------------------------------\n",
    "### 2. Adam Optimizer"
   ]
  },
  {
   "cell_type": "code",
   "execution_count": 23,
   "metadata": {
    "collapsed": true
   },
   "outputs": [],
   "source": [
    "model_adam = Sequential()\n",
    "model_adam.add(Dense(3, activation='softmax', input_shape = (n_cols,)))\n",
    "model_adam.compile(optimizer='adam' ,loss='categorical_crossentropy',metrics=['accuracy'])"
   ]
  },
  {
   "cell_type": "code",
   "execution_count": 24,
   "metadata": {
    "scrolled": true
   },
   "outputs": [
    {
     "name": "stdout",
     "output_type": "stream",
     "text": [
      "Train on 210 samples, validate on 90 samples\n",
      "Epoch 1/100\n",
      "210/210 [==============================] - 0s 2ms/step - loss: 2.3901 - acc: 0.3810 - val_loss: 2.1657 - val_acc: 0.3889\n",
      "Epoch 2/100\n",
      "210/210 [==============================] - 0s 99us/step - loss: 1.5483 - acc: 0.4286 - val_loss: 1.4065 - val_acc: 0.3889\n",
      "Epoch 3/100\n",
      "210/210 [==============================] - 0s 99us/step - loss: 0.9043 - acc: 0.4952 - val_loss: 0.7782 - val_acc: 0.7111\n",
      "Epoch 4/100\n",
      "210/210 [==============================] - 0s 100us/step - loss: 0.7217 - acc: 0.6714 - val_loss: 0.6927 - val_acc: 0.6556\n",
      "Epoch 5/100\n",
      "210/210 [==============================] - 0s 99us/step - loss: 0.6842 - acc: 0.6714 - val_loss: 0.5235 - val_acc: 0.8222\n",
      "Epoch 6/100\n",
      "210/210 [==============================] - 0s 99us/step - loss: 0.4672 - acc: 0.7905 - val_loss: 0.5369 - val_acc: 0.6778\n",
      "Epoch 7/100\n",
      "210/210 [==============================] - 0s 98us/step - loss: 0.4494 - acc: 0.7619 - val_loss: 0.4083 - val_acc: 0.8556\n",
      "Epoch 8/100\n",
      "210/210 [==============================] - 0s 96us/step - loss: 0.3615 - acc: 0.8381 - val_loss: 0.4321 - val_acc: 0.7889\n",
      "Epoch 9/100\n",
      "210/210 [==============================] - 0s 98us/step - loss: 0.2998 - acc: 0.9429 - val_loss: 0.3394 - val_acc: 0.9556\n",
      "Epoch 10/100\n",
      "210/210 [==============================] - 0s 104us/step - loss: 0.2687 - acc: 0.9857 - val_loss: 0.3241 - val_acc: 0.9333\n",
      "Epoch 11/100\n",
      "210/210 [==============================] - 0s 97us/step - loss: 0.2463 - acc: 0.9286 - val_loss: 0.3861 - val_acc: 0.7222\n",
      "Epoch 12/100\n",
      "210/210 [==============================] - 0s 99us/step - loss: 0.2878 - acc: 0.8714 - val_loss: 0.2995 - val_acc: 0.9222\n",
      "Epoch 13/100\n",
      "210/210 [==============================] - 0s 103us/step - loss: 0.2458 - acc: 0.9190 - val_loss: 0.2904 - val_acc: 0.8556\n",
      "Epoch 14/100\n",
      "210/210 [==============================] - 0s 99us/step - loss: 0.2162 - acc: 0.9524 - val_loss: 0.3042 - val_acc: 0.8333\n",
      "Epoch 15/100\n",
      "210/210 [==============================] - 0s 99us/step - loss: 0.2084 - acc: 0.9429 - val_loss: 0.2257 - val_acc: 0.9889\n",
      "Epoch 16/100\n",
      "210/210 [==============================] - 0s 100us/step - loss: 0.1780 - acc: 0.9952 - val_loss: 0.2442 - val_acc: 0.9333\n",
      "Epoch 17/100\n",
      "210/210 [==============================] - 0s 100us/step - loss: 0.1951 - acc: 0.9476 - val_loss: 0.2321 - val_acc: 0.9333\n"
     ]
    },
    {
     "data": {
      "text/plain": [
       "<keras.callbacks.History at 0x1829cbfc10>"
      ]
     },
     "execution_count": 24,
     "metadata": {},
     "output_type": "execute_result"
    }
   ],
   "source": [
    "early_stopping_monitor = EarlyStopping(patience=2)\n",
    "model_adam.fit(X_train, target, batch_size= 32 ,validation_split=0.3, epochs=100, callbacks = [early_stopping_monitor])"
   ]
  },
  {
   "cell_type": "code",
   "execution_count": 25,
   "metadata": {
    "collapsed": true
   },
   "outputs": [],
   "source": [
    "pred_disk_adam = model_adam.predict(X_test_disk)"
   ]
  },
  {
   "cell_type": "code",
   "execution_count": 26,
   "metadata": {},
   "outputs": [
    {
     "data": {
      "text/plain": [
       "array([[ 0.,  1.,  0.]], dtype=float32)"
      ]
     },
     "execution_count": 26,
     "metadata": {},
     "output_type": "execute_result"
    }
   ],
   "source": [
    "pred_disk_adam"
   ]
  },
  {
   "cell_type": "markdown",
   "metadata": {},
   "source": [
    "### ------It works !"
   ]
  },
  {
   "cell_type": "markdown",
   "metadata": {},
   "source": [
    "- As we can see, using Adam Optimizer gives us a much higher accuracy (95 % instead of 60%)\n",
    "- We tend to think that Adam Optimizer is more adapted to our case study than SGD \n",
    "- This assuption is confirmed with our test, since we can the exact class as output of our network"
   ]
  },
  {
   "cell_type": "markdown",
   "metadata": {},
   "source": [
    "# ------------------------------------------------------------------------\n",
    "# 3. Visualization of the Solution\n",
    "# ------------------------------------------------------------------------"
   ]
  },
  {
   "cell_type": "markdown",
   "metadata": {},
   "source": [
    "- In our first example,we have used just one layer in the network \n",
    "- The wights are contained in the first element our the output matrix "
   ]
  },
  {
   "cell_type": "code",
   "execution_count": 30,
   "metadata": {},
   "outputs": [
    {
     "data": {
      "text/plain": [
       "(5184, 3)"
      ]
     },
     "execution_count": 30,
     "metadata": {},
     "output_type": "execute_result"
    }
   ],
   "source": [
    "weights= model_adam.get_weights()[0]\n",
    "weights.shape"
   ]
  },
  {
   "cell_type": "markdown",
   "metadata": {},
   "source": [
    "- The resulting weights matrix contains as many lines as we have in our dataset \n",
    "- Each column of this matrix corresponds to the weights of each class (in our case 3 : rectange, disk and triangle)\n",
    "- To have an idea about the weights we exract and visualise them"
   ]
  },
  {
   "cell_type": "code",
   "execution_count": 32,
   "metadata": {},
   "outputs": [
    {
     "data": {
      "text/html": [
       "<div>\n",
       "<style>\n",
       "    .dataframe thead tr:only-child th {\n",
       "        text-align: right;\n",
       "    }\n",
       "\n",
       "    .dataframe thead th {\n",
       "        text-align: left;\n",
       "    }\n",
       "\n",
       "    .dataframe tbody tr th {\n",
       "        vertical-align: top;\n",
       "    }\n",
       "</style>\n",
       "<table border=\"1\" class=\"dataframe\">\n",
       "  <thead>\n",
       "    <tr style=\"text-align: right;\">\n",
       "      <th></th>\n",
       "      <th>rectangle</th>\n",
       "      <th>disk</th>\n",
       "      <th>triangle</th>\n",
       "    </tr>\n",
       "  </thead>\n",
       "  <tbody>\n",
       "    <tr>\n",
       "      <th>0</th>\n",
       "      <td>0.031546</td>\n",
       "      <td>0.025377</td>\n",
       "      <td>0.002227</td>\n",
       "    </tr>\n",
       "    <tr>\n",
       "      <th>1</th>\n",
       "      <td>-0.028376</td>\n",
       "      <td>-0.029432</td>\n",
       "      <td>0.011443</td>\n",
       "    </tr>\n",
       "    <tr>\n",
       "      <th>2</th>\n",
       "      <td>-0.014193</td>\n",
       "      <td>-0.002526</td>\n",
       "      <td>-0.031209</td>\n",
       "    </tr>\n",
       "    <tr>\n",
       "      <th>3</th>\n",
       "      <td>-0.027859</td>\n",
       "      <td>0.030094</td>\n",
       "      <td>-0.014954</td>\n",
       "    </tr>\n",
       "    <tr>\n",
       "      <th>4</th>\n",
       "      <td>-0.009330</td>\n",
       "      <td>0.017102</td>\n",
       "      <td>0.013863</td>\n",
       "    </tr>\n",
       "  </tbody>\n",
       "</table>\n",
       "</div>"
      ],
      "text/plain": [
       "   rectangle      disk  triangle\n",
       "0   0.031546  0.025377  0.002227\n",
       "1  -0.028376 -0.029432  0.011443\n",
       "2  -0.014193 -0.002526 -0.031209\n",
       "3  -0.027859  0.030094 -0.014954\n",
       "4  -0.009330  0.017102  0.013863"
      ]
     },
     "execution_count": 32,
     "metadata": {},
     "output_type": "execute_result"
    }
   ],
   "source": [
    "import pandas as pd\n",
    "df = pd.DataFrame(np.array(weights).reshape(5184,3), columns = list([\"rectangle\", \"disk\", \"triangle\"]))\n",
    "df.head()"
   ]
  },
  {
   "cell_type": "markdown",
   "metadata": {},
   "source": [
    "- The first column corresponds to the weights of the rectangle "
   ]
  },
  {
   "cell_type": "code",
   "execution_count": 171,
   "metadata": {},
   "outputs": [
    {
     "name": "stderr",
     "output_type": "stream",
     "text": [
      "/Users/sarahlina/Documents/Documents/Dev/anaconda2/lib/python2.7/site-packages/ipykernel_launcher.py:2: FutureWarning: reshape is deprecated and will raise in a subsequent release. Please use .values.reshape(...) instead\n",
      "  \n"
     ]
    },
    {
     "data": {
      "text/plain": [
       "<matplotlib.image.AxesImage at 0x183df1ad50>"
      ]
     },
     "execution_count": 171,
     "metadata": {},
     "output_type": "execute_result"
    },
    {
     "data": {
      "image/png": "[encoded data removed]",
      "text/plain": [
       "<matplotlib.figure.Figure at 0x183f7336d0>"
      ]
     },
     "metadata": {},
     "output_type": "display_data"
    }
   ],
   "source": [
    "rectangle=df.iloc[:,0]\n",
    "plt.imshow(rectangle.reshape(72,72), cmap='gray')"
   ]
  },
  {
   "cell_type": "markdown",
   "metadata": {},
   "source": [
    "- The second one corresponds to the weights of the disk "
   ]
  },
  {
   "cell_type": "code",
   "execution_count": 34,
   "metadata": {},
   "outputs": [
    {
     "name": "stderr",
     "output_type": "stream",
     "text": [
      "/Users/sarahlina/Documents/Documents/Dev/anaconda2/lib/python2.7/site-packages/ipykernel_launcher.py:2: FutureWarning: reshape is deprecated and will raise in a subsequent release. Please use .values.reshape(...) instead\n",
      "  \n"
     ]
    },
    {
     "data": {
      "text/plain": [
       "<matplotlib.image.AxesImage at 0x1829f59490>"
      ]
     },
     "execution_count": 34,
     "metadata": {},
     "output_type": "execute_result"
    },
    {
     "data": {
      "image/png": "[encoded data removed]",
      "text/plain": [
       "<matplotlib.figure.Figure at 0x108221b50>"
      ]
     },
     "metadata": {},
     "output_type": "display_data"
    }
   ],
   "source": [
    "disk=df.iloc[:,1]\n",
    "plt.imshow(disk.reshape(72,72), cmap='gray')"
   ]
  },
  {
   "cell_type": "markdown",
   "metadata": {},
   "source": [
    "- And the last one corresponds to the weights of the triangle"
   ]
  },
  {
   "cell_type": "code",
   "execution_count": 35,
   "metadata": {},
   "outputs": [
    {
     "name": "stderr",
     "output_type": "stream",
     "text": [
      "/Users/sarahlina/Documents/Documents/Dev/anaconda2/lib/python2.7/site-packages/ipykernel_launcher.py:2: FutureWarning: reshape is deprecated and will raise in a subsequent release. Please use .values.reshape(...) instead\n",
      "  \n"
     ]
    },
    {
     "data": {
      "text/plain": [
       "<matplotlib.image.AxesImage at 0x182a0b9810>"
      ]
     },
     "execution_count": 35,
     "metadata": {},
     "output_type": "execute_result"
    },
    {
     "data": {
      "image/png": "[encoded data removed]",
      "text/plain": [
       "<matplotlib.figure.Figure at 0x1829f88fd0>"
      ]
     },
     "metadata": {},
     "output_type": "display_data"
    }
   ],
   "source": [
    "triangle=df.iloc[:,2]\n",
    "plt.imshow(triangle.reshape(72,72), cmap='gray')"
   ]
  },
  {
   "cell_type": "markdown",
   "metadata": {},
   "source": [
    "The three images are not really clear but we can see the shape of each figure"
   ]
  },
  {
   "cell_type": "markdown",
   "metadata": {},
   "source": [
    "# ------------------------------------------------------------------------\n",
    "# 4. A More Difficult Classification Problem\n",
    "# ------------------------------------------------------------------------"
   ]
  },
  {
   "cell_type": "code",
   "execution_count": 36,
   "metadata": {},
   "outputs": [
    {
     "name": "stdout",
     "output_type": "stream",
     "text": [
      "Creating data-----\n",
      "Data Created\n"
     ]
    }
   ],
   "source": [
    "[X_train, Y_train] = generate_dataset_classification(300, 20, True)"
   ]
  },
  {
   "cell_type": "code",
   "execution_count": 37,
   "metadata": {
    "collapsed": true
   },
   "outputs": [],
   "source": [
    "#Convert to categorical\n",
    "target = to_categorical(Y_train)\n",
    "\n",
    "#Get the input shape\n",
    "n_cols = X_train.shape[1]"
   ]
  },
  {
   "cell_type": "code",
   "execution_count": 38,
   "metadata": {},
   "outputs": [
    {
     "name": "stdout",
     "output_type": "stream",
     "text": [
      "Creating data-----\n",
      "Data Created\n"
     ]
    }
   ],
   "source": [
    "[X_test, Y_test] = generate_test_set_classification()"
   ]
  },
  {
   "cell_type": "markdown",
   "metadata": {},
   "source": [
    "## 3.1. Linear Model : "
   ]
  },
  {
   "cell_type": "markdown",
   "metadata": {},
   "source": [
    "- We first start with the previous linear model that contains only one Dense Layer which corresponds to the output layer"
   ]
  },
  {
   "cell_type": "code",
   "execution_count": 39,
   "metadata": {
    "scrolled": true
   },
   "outputs": [
    {
     "name": "stdout",
     "output_type": "stream",
     "text": [
      "Train on 210 samples, validate on 90 samples\n",
      "Epoch 1/100\n",
      "210/210 [==============================] - 0s 2ms/step - loss: 2.6851 - acc: 0.3000 - val_loss: 1.5583 - val_acc: 0.3778\n",
      "Epoch 2/100\n",
      "210/210 [==============================] - 0s 106us/step - loss: 1.8148 - acc: 0.3571 - val_loss: 1.8100 - val_acc: 0.3889\n",
      "Epoch 3/100\n",
      "210/210 [==============================] - 0s 107us/step - loss: 1.7976 - acc: 0.3714 - val_loss: 1.9952 - val_acc: 0.3111\n"
     ]
    },
    {
     "data": {
      "text/plain": [
       "<keras.callbacks.History at 0x182a5a13d0>"
      ]
     },
     "execution_count": 39,
     "metadata": {},
     "output_type": "execute_result"
    }
   ],
   "source": [
    "model_adam_linear = Sequential()\n",
    "model_adam_linear.add(Dense(3, activation='softmax', input_shape = (n_cols,)))\n",
    "model_adam_linear.compile(optimizer='adam' ,loss='categorical_crossentropy',metrics=['accuracy'])\n",
    "model_adam_linear.fit(X_train, target, batch_size= 32 ,validation_split=0.3, epochs=100, callbacks = [early_stopping_monitor])"
   ]
  },
  {
   "cell_type": "code",
   "execution_count": 40,
   "metadata": {},
   "outputs": [
    {
     "name": "stdout",
     "output_type": "stream",
     "text": [
      "300/300 [==============================] - 0s 56us/step\n"
     ]
    },
    {
     "data": {
      "text/plain": [
       "[2.0065030670166015, 0.32999999960263571]"
      ]
     },
     "execution_count": 40,
     "metadata": {},
     "output_type": "execute_result"
    }
   ],
   "source": [
    "model_adam_linear.evaluate(X_test, Y_test)"
   ]
  },
  {
   "cell_type": "markdown",
   "metadata": {},
   "source": [
    "- We can see that the model that gave us an accuracy of 95% for the previous problem is clearly not adapted to this case\n",
    "- With a train and test accuracy of 30 % , the model that contains only one layer is not suitable. \n"
   ]
  },
  {
   "cell_type": "markdown",
   "metadata": {},
   "source": [
    "We may think that by adding another layer we will improve our model. We will try to see in the following :"
   ]
  },
  {
   "cell_type": "code",
   "execution_count": 181,
   "metadata": {},
   "outputs": [
    {
     "name": "stdout",
     "output_type": "stream",
     "text": [
      "_________________________________________________________________\n",
      "Layer (type)                 Output Shape              Param #   \n",
      "=================================================================\n",
      "dense_19 (Dense)             (None, 72, 72, 500)       1000      \n",
      "_________________________________________________________________\n",
      "flatten_4 (Flatten)          (None, 2592000)           0         \n",
      "_________________________________________________________________\n",
      "dense_20 (Dense)             (None, 3)                 7776003   \n",
      "=================================================================\n",
      "Total params: 7,777,003\n",
      "Trainable params: 7,777,003\n",
      "Non-trainable params: 0\n",
      "_________________________________________________________________\n"
     ]
    }
   ],
   "source": [
    "model_adam_linear_2 = Sequential()\n",
    "model_adam_linear_2.add(Dense(500, activation= 'relu', input_shape = (72,72,1)))\n",
    "model_adam_linear_2.add(Flatten())\n",
    "model_adam_linear_2.add(Dense(3, activation='softmax'))\n",
    "model_adam_linear_2.summary()"
   ]
  },
  {
   "cell_type": "code",
   "execution_count": 182,
   "metadata": {
    "scrolled": false
   },
   "outputs": [
    {
     "name": "stdout",
     "output_type": "stream",
     "text": [
      "Train on 210 samples, validate on 90 samples\n",
      "Epoch 1/100\n",
      "210/210 [==============================] - 8s 37ms/step - loss: 8.5883 - acc: 0.2667 - val_loss: 11.1036 - val_acc: 0.3111\n",
      "Epoch 2/100\n",
      "210/210 [==============================] - 7s 32ms/step - loss: 10.2849 - acc: 0.3619 - val_loss: 11.1036 - val_acc: 0.3111\n",
      "Epoch 3/100\n",
      "210/210 [==============================] - 6s 30ms/step - loss: 10.2849 - acc: 0.3619 - val_loss: 11.1036 - val_acc: 0.3111\n",
      "Epoch 4/100\n",
      "210/210 [==============================] - 6s 30ms/step - loss: 10.2849 - acc: 0.3619 - val_loss: 11.1036 - val_acc: 0.3111\n"
     ]
    },
    {
     "data": {
      "text/plain": [
       "<keras.callbacks.History at 0x18242c9fd0>"
      ]
     },
     "execution_count": 182,
     "metadata": {},
     "output_type": "execute_result"
    }
   ],
   "source": [
    "model_adam_linear_2.compile(optimizer='adam' ,loss='categorical_crossentropy',metrics=['accuracy'])\n",
    "model_adam_linear_2.fit(X_train, target, batch_size= 32 ,validation_split=0.3, epochs=100, callbacks = [early_stopping_monitor])"
   ]
  },
  {
   "cell_type": "code",
   "execution_count": 183,
   "metadata": {},
   "outputs": [
    {
     "name": "stdout",
     "output_type": "stream",
     "text": [
      "300/300 [==============================] - 2s 8ms/step\n"
     ]
    },
    {
     "data": {
      "text/plain": [
       "[10.799123980204264, 0.32999999960263571]"
      ]
     },
     "execution_count": 183,
     "metadata": {},
     "output_type": "execute_result"
    }
   ],
   "source": [
    "model_adam_linear_2.evaluate(X_test, Y_test)"
   ]
  },
  {
   "cell_type": "markdown",
   "metadata": {},
   "source": [
    "#### -----"
   ]
  },
  {
   "cell_type": "markdown",
   "metadata": {},
   "source": [
    "As we can see, adding an additional layer doesn't improve the accuracy. Which means that the data are not linearly separable. Thus a more complex netword is required."
   ]
  },
  {
   "cell_type": "markdown",
   "metadata": {},
   "source": [
    "## 3.2 Convolutional deep network"
   ]
  },
  {
   "cell_type": "code",
   "execution_count": 41,
   "metadata": {},
   "outputs": [
    {
     "name": "stdout",
     "output_type": "stream",
     "text": [
      "(300, 72, 72, 1)\n"
     ]
    }
   ],
   "source": [
    "# Formatting the train input\n",
    "X_train = X_train.reshape(X_train.shape[0], 72, 72, 1)\n",
    "X_train = X_train.astype('float32')\n",
    "print(X_train.shape)"
   ]
  },
  {
   "cell_type": "code",
   "execution_count": 42,
   "metadata": {},
   "outputs": [
    {
     "name": "stdout",
     "output_type": "stream",
     "text": [
      "(300, 72, 72, 1)\n"
     ]
    }
   ],
   "source": [
    "# Formatting the test input\n",
    "X_test = X_test.reshape(X_test.shape[0],  72, 72, 1)\n",
    "X_test = X_test.astype('float32')\n",
    "print(X_test.shape)"
   ]
  },
  {
   "cell_type": "markdown",
   "metadata": {},
   "source": [
    "# ---------\n",
    "The first architecture we try is the one described is the statement that contains: \n",
    "1. A Convolutional Layer\n",
    "2. A Pooling Layer\n",
    "3. A Flatten Layen\n",
    "4. A Dense layer as output layer"
   ]
  },
  {
   "cell_type": "code",
   "execution_count": null,
   "metadata": {},
   "outputs": [],
   "source": [
    "model_deep = Sequential()\n",
    "model_deep.add(Conv2D(10, 3, 3, border_mode='same', activation='relu',input_shape=(72, 72, 1)))\n",
    "model_deep.add(MaxPooling2D(pool_size=(2, 2)))\n",
    "model_deep.add(Flatten())\n",
    "model_deep.add(Dense(3, activation='softmax'))"
   ]
  },
  {
   "cell_type": "code",
   "execution_count": 44,
   "metadata": {},
   "outputs": [
    {
     "name": "stdout",
     "output_type": "stream",
     "text": [
      "_________________________________________________________________\n",
      "Layer (type)                 Output Shape              Param #   \n",
      "=================================================================\n",
      "conv2d_1 (Conv2D)            (None, 68, 68, 16)        416       \n",
      "_________________________________________________________________\n",
      "max_pooling2d_1 (MaxPooling2 (None, 34, 34, 16)        0         \n",
      "_________________________________________________________________\n",
      "flatten_1 (Flatten)          (None, 18496)             0         \n",
      "_________________________________________________________________\n",
      "dense_4 (Dense)              (None, 3)                 55491     \n",
      "=================================================================\n",
      "Total params: 55,907\n",
      "Trainable params: 55,907\n",
      "Non-trainable params: 0\n",
      "_________________________________________________________________\n"
     ]
    }
   ],
   "source": [
    "model_deep.summary()"
   ]
  },
  {
   "cell_type": "code",
   "execution_count": 45,
   "metadata": {
    "collapsed": true
   },
   "outputs": [],
   "source": [
    "model_deep.compile(optimizer='adam' ,loss='categorical_crossentropy',metrics=['accuracy'])"
   ]
  },
  {
   "cell_type": "code",
   "execution_count": 46,
   "metadata": {
    "scrolled": true
   },
   "outputs": [
    {
     "name": "stdout",
     "output_type": "stream",
     "text": [
      "Train on 210 samples, validate on 90 samples\n",
      "Epoch 1/100\n",
      "210/210 [==============================] - 1s 4ms/step - loss: 1.2581 - acc: 0.3571 - val_loss: 1.1466 - val_acc: 0.3778\n",
      "Epoch 2/100\n",
      "210/210 [==============================] - 0s 2ms/step - loss: 1.0164 - acc: 0.4905 - val_loss: 0.9719 - val_acc: 0.4778\n",
      "Epoch 3/100\n",
      "210/210 [==============================] - 0s 2ms/step - loss: 0.8808 - acc: 0.6381 - val_loss: 0.8780 - val_acc: 0.4667\n",
      "Epoch 4/100\n",
      "210/210 [==============================] - 0s 2ms/step - loss: 0.7961 - acc: 0.6619 - val_loss: 0.7809 - val_acc: 0.6889\n",
      "Epoch 5/100\n",
      "210/210 [==============================] - 0s 2ms/step - loss: 0.7169 - acc: 0.8000 - val_loss: 0.7307 - val_acc: 0.7222\n",
      "Epoch 6/100\n",
      "210/210 [==============================] - 0s 2ms/step - loss: 0.6217 - acc: 0.8190 - val_loss: 0.6779 - val_acc: 0.7444\n",
      "Epoch 7/100\n",
      "210/210 [==============================] - 0s 2ms/step - loss: 0.5588 - acc: 0.8238 - val_loss: 0.6482 - val_acc: 0.7333\n",
      "Epoch 8/100\n",
      "210/210 [==============================] - 0s 2ms/step - loss: 0.5067 - acc: 0.8762 - val_loss: 0.6375 - val_acc: 0.6889\n",
      "Epoch 9/100\n",
      "210/210 [==============================] - 0s 2ms/step - loss: 0.4829 - acc: 0.8619 - val_loss: 0.6335 - val_acc: 0.7222\n",
      "Epoch 10/100\n",
      "210/210 [==============================] - 0s 2ms/step - loss: 0.4424 - acc: 0.8714 - val_loss: 0.6148 - val_acc: 0.7444\n",
      "Epoch 11/100\n",
      "210/210 [==============================] - 0s 2ms/step - loss: 0.3942 - acc: 0.9190 - val_loss: 0.6477 - val_acc: 0.7000\n",
      "Epoch 12/100\n",
      "210/210 [==============================] - 0s 2ms/step - loss: 0.3966 - acc: 0.8952 - val_loss: 0.6116 - val_acc: 0.7222\n",
      "Epoch 13/100\n",
      "210/210 [==============================] - 0s 2ms/step - loss: 0.3471 - acc: 0.9333 - val_loss: 0.6196 - val_acc: 0.6889\n",
      "Epoch 14/100\n",
      "210/210 [==============================] - 0s 2ms/step - loss: 0.3284 - acc: 0.9238 - val_loss: 0.6315 - val_acc: 0.7333\n",
      "Epoch 15/100\n",
      "210/210 [==============================] - 0s 2ms/step - loss: 0.2958 - acc: 0.9524 - val_loss: 0.6274 - val_acc: 0.6889\n"
     ]
    },
    {
     "data": {
      "text/plain": [
       "<keras.callbacks.History at 0x182aa904d0>"
      ]
     },
     "execution_count": 46,
     "metadata": {},
     "output_type": "execute_result"
    }
   ],
   "source": [
    "early_stopping_monitor = EarlyStopping(patience=3)\n",
    "model_deep.fit(X_train, target, batch_size= 32 ,validation_split=0.3, epochs=100, callbacks = [early_stopping_monitor], verbose=1)"
   ]
  },
  {
   "cell_type": "code",
   "execution_count": 47,
   "metadata": {},
   "outputs": [
    {
     "name": "stdout",
     "output_type": "stream",
     "text": [
      "300/300 [==============================] - 0s 624us/step\n"
     ]
    },
    {
     "data": {
      "text/plain": [
       "[0.69240036725997922, 0.69999999920527145]"
      ]
     },
     "execution_count": 47,
     "metadata": {},
     "output_type": "execute_result"
    }
   ],
   "source": [
    "model_deep.evaluate(X_test, Y_test)"
   ]
  },
  {
   "cell_type": "markdown",
   "metadata": {},
   "source": [
    "- As we can see, by using a deeper model we have improved our significally the accuracy. Which confirm our assuption about the existance of non linear relations whithin the data. \n",
    "- Thus a convolutional deep network is more adapted to complex problems such as this one comparing to the linear model"
   ]
  },
  {
   "cell_type": "markdown",
   "metadata": {},
   "source": [
    "One wants to improve the accuracy by improving the previous architecture of the convolutional deep network"
   ]
  },
  {
   "cell_type": "markdown",
   "metadata": {},
   "source": [
    "## Improve the architecture:  "
   ]
  },
  {
   "cell_type": "markdown",
   "metadata": {},
   "source": [
    "To improve the architecture, we add an additional Dense layer at the end of the network to capture the new relations resulting from the previous layers"
   ]
  },
  {
   "cell_type": "code",
   "execution_count": 48,
   "metadata": {
    "collapsed": true
   },
   "outputs": [],
   "source": [
    "model_deep_2 = Sequential()\n",
    "model_deep_2.add(Conv2D(16, (5, 5), activation='relu',input_shape=(72, 72, 1)))\n",
    "model_deep_2.add(MaxPooling2D(pool_size=(2, 2)))\n",
    "model_deep_2.add(Flatten())\n",
    "model_deep_2.add(Dense(200, activation='relu' ))\n",
    "model_deep_2.add(Dense(3, activation='softmax'))"
   ]
  },
  {
   "cell_type": "code",
   "execution_count": 49,
   "metadata": {},
   "outputs": [
    {
     "name": "stdout",
     "output_type": "stream",
     "text": [
      "_________________________________________________________________\n",
      "Layer (type)                 Output Shape              Param #   \n",
      "=================================================================\n",
      "conv2d_2 (Conv2D)            (None, 68, 68, 16)        416       \n",
      "_________________________________________________________________\n",
      "max_pooling2d_2 (MaxPooling2 (None, 34, 34, 16)        0         \n",
      "_________________________________________________________________\n",
      "flatten_2 (Flatten)          (None, 18496)             0         \n",
      "_________________________________________________________________\n",
      "dense_5 (Dense)              (None, 200)               3699400   \n",
      "_________________________________________________________________\n",
      "dense_6 (Dense)              (None, 3)                 603       \n",
      "=================================================================\n",
      "Total params: 3,700,419\n",
      "Trainable params: 3,700,419\n",
      "Non-trainable params: 0\n",
      "_________________________________________________________________\n"
     ]
    }
   ],
   "source": [
    "model_deep_2.summary()"
   ]
  },
  {
   "cell_type": "code",
   "execution_count": 50,
   "metadata": {
    "collapsed": true
   },
   "outputs": [],
   "source": [
    "model_deep_2.compile(optimizer='adam' ,loss='categorical_crossentropy',metrics=['accuracy'])"
   ]
  },
  {
   "cell_type": "code",
   "execution_count": 51,
   "metadata": {
    "scrolled": true
   },
   "outputs": [
    {
     "name": "stdout",
     "output_type": "stream",
     "text": [
      "Train on 210 samples, validate on 90 samples\n",
      "Epoch 1/100\n",
      "210/210 [==============================] - 1s 6ms/step - loss: 3.0925 - acc: 0.3143 - val_loss: 1.3931 - val_acc: 0.3778\n",
      "Epoch 2/100\n",
      "210/210 [==============================] - 1s 3ms/step - loss: 1.0587 - acc: 0.5000 - val_loss: 0.8667 - val_acc: 0.6222\n",
      "Epoch 3/100\n",
      "210/210 [==============================] - 1s 3ms/step - loss: 0.7335 - acc: 0.7095 - val_loss: 0.7153 - val_acc: 0.7667\n",
      "Epoch 4/100\n",
      "210/210 [==============================] - 1s 3ms/step - loss: 0.5864 - acc: 0.7952 - val_loss: 0.6359 - val_acc: 0.7778\n",
      "Epoch 5/100\n",
      "210/210 [==============================] - 1s 3ms/step - loss: 0.5048 - acc: 0.8524 - val_loss: 0.5880 - val_acc: 0.7444\n",
      "Epoch 6/100\n",
      "210/210 [==============================] - 1s 3ms/step - loss: 0.4230 - acc: 0.9000 - val_loss: 0.5662 - val_acc: 0.7778\n",
      "Epoch 7/100\n",
      "210/210 [==============================] - 1s 3ms/step - loss: 0.3470 - acc: 0.9333 - val_loss: 0.5622 - val_acc: 0.7111\n",
      "Epoch 8/100\n",
      "210/210 [==============================] - 1s 3ms/step - loss: 0.2820 - acc: 0.9667 - val_loss: 0.6513 - val_acc: 0.7222\n",
      "Epoch 9/100\n",
      "210/210 [==============================] - 1s 3ms/step - loss: 0.2861 - acc: 0.9333 - val_loss: 0.5988 - val_acc: 0.7778\n",
      "Epoch 10/100\n",
      "210/210 [==============================] - 1s 3ms/step - loss: 0.2327 - acc: 0.9571 - val_loss: 0.5929 - val_acc: 0.7222\n"
     ]
    },
    {
     "data": {
      "text/plain": [
       "<keras.callbacks.History at 0x182b2ee290>"
      ]
     },
     "execution_count": 51,
     "metadata": {},
     "output_type": "execute_result"
    }
   ],
   "source": [
    "early_stopping_monitor = EarlyStopping(patience=3)\n",
    "model_deep_2.fit(X_train, target, batch_size= 32 ,validation_split=0.3, epochs=100, callbacks = [early_stopping_monitor], verbose=1)"
   ]
  },
  {
   "cell_type": "code",
   "execution_count": 52,
   "metadata": {},
   "outputs": [
    {
     "name": "stdout",
     "output_type": "stream",
     "text": [
      "300/300 [==============================] - 0s 708us/step\n"
     ]
    },
    {
     "data": {
      "text/plain": [
       "[0.62261476119359338, 0.76333333333333331]"
      ]
     },
     "execution_count": 52,
     "metadata": {},
     "output_type": "execute_result"
    }
   ],
   "source": [
    "model_deep_2.evaluate(X_test, Y_test)"
   ]
  },
  {
   "cell_type": "markdown",
   "metadata": {},
   "source": [
    "As predicted, the previous architecture can be improved. As we can notice, the train accuracy has reached 95 % and the test one 76% which can be considered as satisfactory result for a such complex problem"
   ]
  },
  {
   "cell_type": "markdown",
   "metadata": {},
   "source": [
    "### The main benefit of having a deeper model is being able to do more non-linear transformations of the input and drawing a more complex decision boundary. "
   ]
  },
  {
   "cell_type": "markdown",
   "metadata": {},
   "source": [
    "# ------------------------------------------------------------------------\n",
    "# 5. A Regression Problem\n",
    "# ------------------------------------------------------------------------"
   ]
  },
  {
   "cell_type": "code",
   "execution_count": 53,
   "metadata": {},
   "outputs": [
    {
     "name": "stdout",
     "output_type": "stream",
     "text": [
      "Creating data-----\n",
      "Data Created\n"
     ]
    }
   ],
   "source": [
    "[X_train_reg, Y_train_reg] = generate_dataset_regression(300, 20)"
   ]
  },
  {
   "cell_type": "code",
   "execution_count": 106,
   "metadata": {},
   "outputs": [
    {
     "name": "stdout",
     "output_type": "stream",
     "text": [
      "Creating data-----\n",
      "Data Created\n"
     ]
    }
   ],
   "source": [
    "[X_test_reg, Y_test_reg] = generate_test_set_regression()"
   ]
  },
  {
   "cell_type": "code",
   "execution_count": 55,
   "metadata": {},
   "outputs": [
    {
     "data": {
      "text/plain": [
       "(300, 5184)"
      ]
     },
     "execution_count": 55,
     "metadata": {},
     "output_type": "execute_result"
    }
   ],
   "source": [
    "X_train_reg.shape"
   ]
  },
  {
   "cell_type": "code",
   "execution_count": 109,
   "metadata": {},
   "outputs": [
    {
     "name": "stdout",
     "output_type": "stream",
     "text": [
      "(300, 72, 72, 1)\n",
      "(300, 72, 72, 1)\n"
     ]
    }
   ],
   "source": [
    "# Formatting the input\n",
    "X_train_reg = X_train_reg.reshape(X_train_reg.shape[0], 72, 72, 1)\n",
    "#X_train_reg = X_train_reg.astype('float32')\n",
    "print(X_train_reg.shape)\n",
    "\n",
    "# Formatting the input\n",
    "X_test_reg = X_test_reg.reshape(X_test_reg.shape[0], 72, 72, 1)\n",
    "#X_test_reg = X_test_reg.astype('float32')\n",
    "print(X_test_reg.shape)"
   ]
  },
  {
   "cell_type": "code",
   "execution_count": 140,
   "metadata": {},
   "outputs": [
    {
     "name": "stdout",
     "output_type": "stream",
     "text": [
      "49\n"
     ]
    },
    {
     "data": {
      "image/png": "[encoded data removed]",
      "text/plain": [
       "<matplotlib.figure.Figure at 0x181dcc4390>"
      ]
     },
     "metadata": {},
     "output_type": "display_data"
    }
   ],
   "source": [
    "i=rd.randint(0,299)\n",
    "print(i)\n",
    "visualize_prediction(X_train_reg[i], Y_train_reg[i])"
   ]
  },
  {
   "cell_type": "markdown",
   "metadata": {},
   "source": [
    "### ---- 1. Using the previous model : "
   ]
  },
  {
   "cell_type": "code",
   "execution_count": 187,
   "metadata": {
    "collapsed": true
   },
   "outputs": [],
   "source": [
    "model_deep_reg = Sequential()\n",
    "model_deep_reg.add(Conv2D(16, (5, 5), activation='relu',input_shape=(72, 72, 1)))\n",
    "model_deep_reg.add(MaxPooling2D(pool_size=(2, 2)))\n",
    "model_deep_reg.add(Flatten())\n",
    "model_deep_reg.add(Dense(200, activation='relu' ))\n",
    "model_deep_reg.add(Dense(6, activation='linear'))    # we change softmax to linear since it's a regression problem and not a classification one"
   ]
  },
  {
   "cell_type": "code",
   "execution_count": 188,
   "metadata": {
    "collapsed": true
   },
   "outputs": [],
   "source": [
    "model_deep_reg.compile(optimizer='adam' ,loss='categorical_crossentropy',metrics=['accuracy'])"
   ]
  },
  {
   "cell_type": "code",
   "execution_count": 189,
   "metadata": {},
   "outputs": [
    {
     "name": "stdout",
     "output_type": "stream",
     "text": [
      "Epoch 1/100\n",
      "300/300 [==============================] - 2s 7ms/step - loss: 22.1361 - acc: 0.5267\n",
      "Epoch 2/100\n",
      "300/300 [==============================] - 1s 4ms/step - loss: 32.2252 - acc: 0.5267\n",
      "Epoch 3/100\n",
      "300/300 [==============================] - 1s 4ms/step - loss: 32.2235 - acc: 0.5267\n",
      "Epoch 4/100\n",
      "300/300 [==============================] - 1s 4ms/step - loss: 32.2235 - acc: 0.5267\n",
      "Epoch 5/100\n",
      "300/300 [==============================] - 1s 4ms/step - loss: 32.2235 - acc: 0.5267\n",
      "Epoch 6/100\n",
      "300/300 [==============================] - 1s 5ms/step - loss: 32.2235 - acc: 0.5267\n",
      "Epoch 7/100\n",
      "300/300 [==============================] - 1s 5ms/step - loss: 32.2235 - acc: 0.5267\n",
      "Epoch 8/100\n",
      "300/300 [==============================] - 1s 4ms/step - loss: 32.2235 - acc: 0.5267\n",
      "Epoch 9/100\n",
      "300/300 [==============================] - 1s 4ms/step - loss: 32.2235 - acc: 0.5267\n",
      "Epoch 10/100\n",
      "300/300 [==============================] - 1s 4ms/step - loss: 32.2235 - acc: 0.5267\n",
      "Epoch 11/100\n",
      "300/300 [==============================] - 1s 4ms/step - loss: 32.2235 - acc: 0.5267\n",
      "Epoch 12/100\n",
      "300/300 [==============================] - 1s 4ms/step - loss: 32.2235 - acc: 0.5267\n",
      "Epoch 13/100\n",
      "300/300 [==============================] - 1s 4ms/step - loss: 32.2235 - acc: 0.5267\n",
      "Epoch 14/100\n",
      "300/300 [==============================] - 1s 5ms/step - loss: 32.2235 - acc: 0.5267\n",
      "Epoch 15/100\n",
      "300/300 [==============================] - 1s 5ms/step - loss: 32.2235 - acc: 0.5267\n",
      "Epoch 16/100\n",
      "300/300 [==============================] - ETA: 0s - loss: 32.2984 - acc: 0.52 - 1s 4ms/step - loss: 32.2235 - acc: 0.5267\n",
      "Epoch 17/100\n",
      "300/300 [==============================] - 1s 4ms/step - loss: 32.2235 - acc: 0.5267\n",
      "Epoch 18/100\n",
      "300/300 [==============================] - 1s 4ms/step - loss: 32.2235 - acc: 0.5267: 0s - l\n",
      "Epoch 19/100\n",
      "300/300 [==============================] - 1s 4ms/step - loss: 32.2235 - acc: 0.5267\n",
      "Epoch 20/100\n",
      "300/300 [==============================] - 1s 4ms/step - loss: 32.2235 - acc: 0.5267\n",
      "Epoch 21/100\n",
      "300/300 [==============================] - 1s 4ms/step - loss: 32.2235 - acc: 0.5267\n",
      "Epoch 22/100\n",
      "300/300 [==============================] - 1s 4ms/step - loss: 32.2235 - acc: 0.5267\n",
      "Epoch 23/100\n",
      "300/300 [==============================] - 1s 4ms/step - loss: 32.2235 - acc: 0.5267\n",
      "Epoch 24/100\n",
      "300/300 [==============================] - 1s 4ms/step - loss: 32.2235 - acc: 0.5267\n",
      "Epoch 25/100\n",
      "300/300 [==============================] - 1s 4ms/step - loss: 32.2235 - acc: 0.5267: 0s - loss: 32.\n",
      "Epoch 26/100\n",
      "300/300 [==============================] - 1s 4ms/step - loss: 32.2235 - acc: 0.5267\n",
      "Epoch 27/100\n",
      "300/300 [==============================] - 1s 4ms/step - loss: 32.2235 - acc: 0.5267\n",
      "Epoch 28/100\n",
      "300/300 [==============================] - 1s 4ms/step - loss: 32.2235 - acc: 0.5267\n",
      "Epoch 29/100\n",
      "300/300 [==============================] - 1s 4ms/step - loss: 32.2235 - acc: 0.5267\n",
      "Epoch 30/100\n",
      "300/300 [==============================] - 1s 4ms/step - loss: 32.2235 - acc: 0.5267\n",
      "Epoch 31/100\n",
      "300/300 [==============================] - 1s 4ms/step - loss: 32.2235 - acc: 0.5267\n",
      "Epoch 32/100\n",
      "300/300 [==============================] - 1s 4ms/step - loss: 32.2235 - acc: 0.5267\n",
      "Epoch 33/100\n",
      "300/300 [==============================] - 1s 4ms/step - loss: 32.2235 - acc: 0.5267\n",
      "Epoch 34/100\n",
      "300/300 [==============================] - 1s 4ms/step - loss: 32.2235 - acc: 0.5267\n",
      "Epoch 35/100\n",
      "300/300 [==============================] - 1s 4ms/step - loss: 32.2235 - acc: 0.5267\n",
      "Epoch 36/100\n",
      "300/300 [==============================] - 1s 4ms/step - loss: 32.2235 - acc: 0.5267\n",
      "Epoch 37/100\n",
      "300/300 [==============================] - 1s 4ms/step - loss: 32.2235 - acc: 0.5267\n",
      "Epoch 38/100\n",
      "300/300 [==============================] - 1s 4ms/step - loss: 32.2235 - acc: 0.5267\n",
      "Epoch 39/100\n",
      "300/300 [==============================] - 1s 4ms/step - loss: 32.2235 - acc: 0.5267\n",
      "Epoch 40/100\n",
      "300/300 [==============================] - 1s 4ms/step - loss: 32.2235 - acc: 0.5267\n",
      "Epoch 41/100\n",
      "300/300 [==============================] - 1s 4ms/step - loss: 32.2235 - acc: 0.5267\n",
      "Epoch 42/100\n",
      "300/300 [==============================] - 1s 4ms/step - loss: 32.2235 - acc: 0.5267\n",
      "Epoch 43/100\n",
      "300/300 [==============================] - 1s 4ms/step - loss: 32.2235 - acc: 0.5267\n",
      "Epoch 44/100\n",
      "300/300 [==============================] - 1s 4ms/step - loss: 32.2235 - acc: 0.5267\n",
      "Epoch 45/100\n",
      "300/300 [==============================] - 1s 4ms/step - loss: 32.2235 - acc: 0.5267\n",
      "Epoch 46/100\n",
      "300/300 [==============================] - 1s 4ms/step - loss: 32.2235 - acc: 0.5267\n",
      "Epoch 47/100\n",
      "300/300 [==============================] - 1s 4ms/step - loss: 32.2235 - acc: 0.5267\n",
      "Epoch 48/100\n",
      "300/300 [==============================] - 1s 4ms/step - loss: 32.2235 - acc: 0.5267\n",
      "Epoch 49/100\n",
      "300/300 [==============================] - 1s 4ms/step - loss: 32.2235 - acc: 0.5267\n",
      "Epoch 50/100\n",
      "300/300 [==============================] - 1s 4ms/step - loss: 32.2235 - acc: 0.5267\n",
      "Epoch 51/100\n",
      "300/300 [==============================] - 1s 4ms/step - loss: 32.2235 - acc: 0.5267\n",
      "Epoch 52/100\n",
      "300/300 [==============================] - 1s 4ms/step - loss: 32.2235 - acc: 0.5267\n",
      "Epoch 53/100\n",
      "300/300 [==============================] - 1s 4ms/step - loss: 32.2235 - acc: 0.5267\n",
      "Epoch 54/100\n",
      "300/300 [==============================] - 1s 4ms/step - loss: 32.2235 - acc: 0.5267\n",
      "Epoch 55/100\n",
      "300/300 [==============================] - 1s 4ms/step - loss: 32.2235 - acc: 0.5267\n",
      "Epoch 56/100\n",
      "300/300 [==============================] - 1s 4ms/step - loss: 32.2235 - acc: 0.5267\n",
      "Epoch 57/100\n",
      "300/300 [==============================] - 1s 4ms/step - loss: 32.2235 - acc: 0.5267\n",
      "Epoch 58/100\n",
      "300/300 [==============================] - 1s 4ms/step - loss: 32.2235 - acc: 0.5267\n",
      "Epoch 59/100\n",
      "300/300 [==============================] - 1s 4ms/step - loss: 32.2235 - acc: 0.5267\n",
      "Epoch 60/100\n",
      "300/300 [==============================] - 1s 4ms/step - loss: 32.2235 - acc: 0.5267\n",
      "Epoch 61/100\n",
      "300/300 [==============================] - 1s 4ms/step - loss: 32.2235 - acc: 0.5267\n",
      "Epoch 62/100\n",
      "300/300 [==============================] - 1s 4ms/step - loss: 32.2235 - acc: 0.5267\n",
      "Epoch 63/100\n",
      "300/300 [==============================] - 1s 4ms/step - loss: 32.2235 - acc: 0.5267\n",
      "Epoch 64/100\n",
      "300/300 [==============================] - 1s 4ms/step - loss: 32.2235 - acc: 0.5267: \n",
      "Epoch 65/100\n",
      "300/300 [==============================] - 1s 4ms/step - loss: 32.2235 - acc: 0.5267\n",
      "Epoch 66/100\n",
      "300/300 [==============================] - 1s 4ms/step - loss: 32.2235 - acc: 0.5267\n",
      "Epoch 67/100\n",
      "300/300 [==============================] - 1s 4ms/step - loss: 32.2235 - acc: 0.5267: 0s - loss: 31.79\n",
      "Epoch 68/100\n",
      "300/300 [==============================] - 1s 4ms/step - loss: 32.2235 - acc: 0.5267: 0s - loss: 32.5502 - a - ETA: 0s - loss: 32.0961 - acc: 0.53\n",
      "Epoch 69/100\n",
      "300/300 [==============================] - 1s 4ms/step - loss: 32.2235 - acc: 0.5267\n",
      "Epoch 70/100\n",
      "300/300 [==============================] - 1s 4ms/step - loss: 32.2235 - acc: 0.5267\n",
      "Epoch 71/100\n",
      "300/300 [==============================] - 1s 4ms/step - loss: 32.2235 - acc: 0.5267\n",
      "Epoch 72/100\n",
      "300/300 [==============================] - 1s 4ms/step - loss: 32.2235 - acc: 0.5267\n",
      "Epoch 73/100\n",
      "300/300 [==============================] - 1s 4ms/step - loss: 32.2235 - acc: 0.5267\n",
      "Epoch 74/100\n",
      "300/300 [==============================] - 1s 4ms/step - loss: 32.2235 - acc: 0.5267\n",
      "Epoch 75/100\n",
      "300/300 [==============================] - 1s 4ms/step - loss: 32.2235 - acc: 0.5267\n",
      "Epoch 76/100\n",
      "300/300 [==============================] - 1s 4ms/step - loss: 32.2235 - acc: 0.5267\n",
      "Epoch 77/100\n",
      "300/300 [==============================] - 1s 4ms/step - loss: 32.2235 - acc: 0.5267\n",
      "Epoch 78/100\n",
      "300/300 [==============================] - 1s 4ms/step - loss: 32.2235 - acc: 0.5267\n",
      "Epoch 79/100\n",
      "300/300 [==============================] - 1s 4ms/step - loss: 32.2235 - acc: 0.5267\n",
      "Epoch 80/100\n",
      "300/300 [==============================] - 1s 4ms/step - loss: 32.2235 - acc: 0.5267: 0s - loss: 32.4263 - acc\n",
      "Epoch 81/100\n",
      "300/300 [==============================] - 1s 4ms/step - loss: 32.2235 - acc: 0.5267: 0s - loss: 31.9544\n",
      "Epoch 82/100\n",
      "300/300 [==============================] - 1s 4ms/step - loss: 32.2235 - acc: 0.5267\n",
      "Epoch 83/100\n",
      "300/300 [==============================] - 1s 4ms/step - loss: 32.2235 - acc: 0.5267\n",
      "Epoch 84/100\n",
      "300/300 [==============================] - 1s 4ms/step - loss: 32.2235 - acc: 0.5267\n",
      "Epoch 85/100\n",
      "300/300 [==============================] - 1s 4ms/step - loss: 32.2235 - acc: 0.5267\n",
      "Epoch 86/100\n",
      "300/300 [==============================] - 1s 4ms/step - loss: 32.2235 - acc: 0.5267\n",
      "Epoch 87/100\n",
      "300/300 [==============================] - 1s 4ms/step - loss: 32.2235 - acc: 0.5267\n",
      "Epoch 88/100\n",
      "300/300 [==============================] - 1s 4ms/step - loss: 32.2235 - acc: 0.5267\n",
      "Epoch 89/100\n",
      "300/300 [==============================] - 1s 4ms/step - loss: 32.2235 - acc: 0.5267\n",
      "Epoch 90/100\n",
      "300/300 [==============================] - 1s 4ms/step - loss: 32.2235 - acc: 0.5267\n",
      "Epoch 91/100\n",
      "300/300 [==============================] - 1s 4ms/step - loss: 32.2235 - acc: 0.5267\n",
      "Epoch 92/100\n",
      "300/300 [==============================] - 1s 4ms/step - loss: 32.2235 - acc: 0.5267\n",
      "Epoch 93/100\n",
      "300/300 [==============================] - 1s 4ms/step - loss: 32.2235 - acc: 0.5267\n",
      "Epoch 94/100\n",
      "300/300 [==============================] - 1s 4ms/step - loss: 32.2235 - acc: 0.5267\n",
      "Epoch 95/100\n",
      "300/300 [==============================] - 1s 4ms/step - loss: 32.2235 - acc: 0.5267\n",
      "Epoch 96/100\n",
      "300/300 [==============================] - 1s 4ms/step - loss: 32.2235 - acc: 0.5267\n",
      "Epoch 97/100\n",
      "300/300 [==============================] - 1s 4ms/step - loss: 32.2235 - acc: 0.5267\n",
      "Epoch 98/100\n",
      "300/300 [==============================] - 1s 4ms/step - loss: 32.2235 - acc: 0.5267\n",
      "Epoch 99/100\n",
      "300/300 [==============================] - 1s 4ms/step - loss: 32.2235 - acc: 0.5267\n",
      "Epoch 100/100\n",
      "300/300 [==============================] - 1s 4ms/step - loss: 32.2235 - acc: 0.5267\n"
     ]
    },
    {
     "data": {
      "text/plain": [
       "<keras.callbacks.History at 0x183fcdac90>"
      ]
     },
     "execution_count": 189,
     "metadata": {},
     "output_type": "execute_result"
    }
   ],
   "source": [
    "model_deep_reg.fit(X_train_reg, Y_train_sorted, batch_size= 16 , epochs=100)"
   ]
  },
  {
   "cell_type": "code",
   "execution_count": 192,
   "metadata": {},
   "outputs": [
    {
     "name": "stdout",
     "output_type": "stream",
     "text": [
      "300/300 [==============================] - 0s 704us/step\n"
     ]
    },
    {
     "data": {
      "text/plain": [
       "[31.912330729166666, 0.18666666686534883]"
      ]
     },
     "execution_count": 192,
     "metadata": {},
     "output_type": "execute_result"
    }
   ],
   "source": [
    "model_deep_reg.evaluate(X_test_reg, Y_test_reg)"
   ]
  },
  {
   "cell_type": "markdown",
   "metadata": {},
   "source": [
    "- The results obtained are not satisfactory, with only 50% of accuracy for the train the previous model gives less that 20% of accuracy on the test dataset"
   ]
  },
  {
   "cell_type": "markdown",
   "metadata": {},
   "source": [
    "### ---- 2. Using a nnormalization / sorting : "
   ]
  },
  {
   "cell_type": "markdown",
   "metadata": {},
   "source": [
    "The idea is to first sort the Y_train before training the model. The sorting is done as follow:\n",
    "    - For each image, we sort the 3 couples of coordinates with respect to the first axis x "
   ]
  },
  {
   "cell_type": "code",
   "execution_count": 58,
   "metadata": {
    "collapsed": true
   },
   "outputs": [],
   "source": [
    "def sort_y(Y):\n",
    "    y_reshaped = map(lambda i: np.array(sorted(Y[i].reshape(3,2),key=lambda x:x[0])).reshape(6), range(len(Y)))\n",
    "    return np.array(y_reshaped)"
   ]
  },
  {
   "cell_type": "code",
   "execution_count": 107,
   "metadata": {
    "collapsed": true
   },
   "outputs": [],
   "source": [
    "Y_train_sorted = sort_y(Y_train_reg)\n",
    "Y_test_sorted = sort_y(Y_test_reg)"
   ]
  },
  {
   "cell_type": "code",
   "execution_count": 60,
   "metadata": {
    "collapsed": true
   },
   "outputs": [],
   "source": [
    "# Define the model\n",
    "# We choose to re use the same model as previously\n",
    "model = Sequential()\n",
    "model.add(Conv2D(16, kernel_size=(5,5), activation='relu', input_shape=(72,72,1)))\n",
    "model.add(MaxPooling2D(pool_size=(2,2), padding=\"same\"))\n",
    "model.add(Flatten())\n",
    "model.add(Dense(128, activation='relu'))\n",
    "model.add(Dense(6,activation='linear'))"
   ]
  },
  {
   "cell_type": "code",
   "execution_count": 61,
   "metadata": {
    "scrolled": true
   },
   "outputs": [
    {
     "name": "stdout",
     "output_type": "stream",
     "text": [
      "Epoch 1/100\n",
      "300/300 [==============================] - 2s 5ms/step - loss: 1.2446 - acc: 0.2267\n",
      "Epoch 2/100\n",
      "300/300 [==============================] - 1s 3ms/step - loss: 0.1218 - acc: 0.3033\n",
      "Epoch 3/100\n",
      "300/300 [==============================] - 1s 3ms/step - loss: 0.0573 - acc: 0.4867\n",
      "Epoch 4/100\n",
      "300/300 [==============================] - 1s 3ms/step - loss: 0.0481 - acc: 0.5300\n",
      "Epoch 5/100\n",
      "300/300 [==============================] - 1s 3ms/step - loss: 0.0429 - acc: 0.5500\n",
      "Epoch 6/100\n",
      "300/300 [==============================] - 1s 3ms/step - loss: 0.0390 - acc: 0.5600\n",
      "Epoch 7/100\n",
      "300/300 [==============================] - 1s 3ms/step - loss: 0.0349 - acc: 0.5867\n",
      "Epoch 8/100\n",
      "300/300 [==============================] - 1s 3ms/step - loss: 0.0313 - acc: 0.5600\n",
      "Epoch 9/100\n",
      "300/300 [==============================] - 1s 3ms/step - loss: 0.0280 - acc: 0.5767\n",
      "Epoch 10/100\n",
      "300/300 [==============================] - 1s 3ms/step - loss: 0.0253 - acc: 0.6333A: 0s - loss: 0.0262 - acc\n",
      "Epoch 11/100\n",
      "300/300 [==============================] - 1s 3ms/step - loss: 0.0227 - acc: 0.6367\n",
      "Epoch 12/100\n",
      "300/300 [==============================] - 1s 3ms/step - loss: 0.0210 - acc: 0.6167\n",
      "Epoch 13/100\n",
      "300/300 [==============================] - 1s 3ms/step - loss: 0.0195 - acc: 0.6567\n",
      "Epoch 14/100\n",
      "300/300 [==============================] - 1s 3ms/step - loss: 0.0179 - acc: 0.6500A: 0s - loss: 0.0179 - a\n",
      "Epoch 15/100\n",
      "300/300 [==============================] - 1s 3ms/step - loss: 0.0167 - acc: 0.6767\n",
      "Epoch 16/100\n",
      "300/300 [==============================] - 1s 3ms/step - loss: 0.0152 - acc: 0.6633\n",
      "Epoch 17/100\n",
      "300/300 [==============================] - 1s 3ms/step - loss: 0.0139 - acc: 0.7067\n",
      "Epoch 18/100\n",
      "300/300 [==============================] - 1s 3ms/step - loss: 0.0126 - acc: 0.6800\n",
      "Epoch 19/100\n",
      "300/300 [==============================] - 1s 3ms/step - loss: 0.0115 - acc: 0.7067\n",
      "Epoch 20/100\n",
      "300/300 [==============================] - 1s 3ms/step - loss: 0.0127 - acc: 0.6867\n",
      "Epoch 21/100\n",
      "300/300 [==============================] - 1s 3ms/step - loss: 0.0113 - acc: 0.7200\n",
      "Epoch 22/100\n",
      "300/300 [==============================] - 1s 3ms/step - loss: 0.0104 - acc: 0.7467\n",
      "Epoch 23/100\n",
      "300/300 [==============================] - 1s 3ms/step - loss: 0.0088 - acc: 0.7433\n",
      "Epoch 24/100\n",
      "300/300 [==============================] - 1s 3ms/step - loss: 0.0086 - acc: 0.7667\n",
      "Epoch 25/100\n",
      "300/300 [==============================] - 1s 3ms/step - loss: 0.0076 - acc: 0.7633\n",
      "Epoch 26/100\n",
      "300/300 [==============================] - 1s 3ms/step - loss: 0.0071 - acc: 0.7533\n",
      "Epoch 27/100\n",
      "300/300 [==============================] - 1s 3ms/step - loss: 0.0064 - acc: 0.7867\n",
      "Epoch 28/100\n",
      "300/300 [==============================] - 1s 3ms/step - loss: 0.0058 - acc: 0.7800\n",
      "Epoch 29/100\n",
      "300/300 [==============================] - 1s 3ms/step - loss: 0.0053 - acc: 0.7967\n",
      "Epoch 30/100\n",
      "300/300 [==============================] - 1s 3ms/step - loss: 0.0050 - acc: 0.7867\n",
      "Epoch 31/100\n",
      "300/300 [==============================] - 1s 3ms/step - loss: 0.0047 - acc: 0.8200\n",
      "Epoch 32/100\n",
      "300/300 [==============================] - 1s 3ms/step - loss: 0.0043 - acc: 0.8233\n",
      "Epoch 33/100\n",
      "300/300 [==============================] - 1s 3ms/step - loss: 0.0040 - acc: 0.8467\n",
      "Epoch 34/100\n",
      "300/300 [==============================] - 1s 3ms/step - loss: 0.0037 - acc: 0.8367\n",
      "Epoch 35/100\n",
      "300/300 [==============================] - 1s 3ms/step - loss: 0.0036 - acc: 0.8567\n",
      "Epoch 36/100\n",
      "300/300 [==============================] - 1s 3ms/step - loss: 0.0034 - acc: 0.8400\n",
      "Epoch 37/100\n",
      "300/300 [==============================] - 1s 3ms/step - loss: 0.0031 - acc: 0.8433\n",
      "Epoch 38/100\n",
      "300/300 [==============================] - 1s 3ms/step - loss: 0.0029 - acc: 0.8667\n",
      "Epoch 39/100\n",
      "300/300 [==============================] - 1s 3ms/step - loss: 0.0027 - acc: 0.8867\n",
      "Epoch 40/100\n",
      "300/300 [==============================] - 1s 3ms/step - loss: 0.0026 - acc: 0.8833\n",
      "Epoch 41/100\n",
      "300/300 [==============================] - 1s 3ms/step - loss: 0.0024 - acc: 0.8933\n",
      "Epoch 42/100\n",
      "300/300 [==============================] - 1s 3ms/step - loss: 0.0022 - acc: 0.8800\n",
      "Epoch 43/100\n",
      "300/300 [==============================] - 1s 3ms/step - loss: 0.0021 - acc: 0.8867\n",
      "Epoch 44/100\n",
      "300/300 [==============================] - 1s 3ms/step - loss: 0.0020 - acc: 0.8967\n",
      "Epoch 45/100\n",
      "300/300 [==============================] - 1s 3ms/step - loss: 0.0020 - acc: 0.8900\n",
      "Epoch 46/100\n",
      "300/300 [==============================] - 1s 3ms/step - loss: 0.0018 - acc: 0.8800\n",
      "Epoch 47/100\n",
      "300/300 [==============================] - 1s 3ms/step - loss: 0.0018 - acc: 0.8967\n",
      "Epoch 48/100\n",
      "300/300 [==============================] - 1s 3ms/step - loss: 0.0016 - acc: 0.9100\n",
      "Epoch 49/100\n",
      "300/300 [==============================] - 1s 3ms/step - loss: 0.0016 - acc: 0.9067\n",
      "Epoch 50/100\n",
      "300/300 [==============================] - 1s 3ms/step - loss: 0.0015 - acc: 0.9100\n",
      "Epoch 51/100\n",
      "300/300 [==============================] - 1s 3ms/step - loss: 0.0015 - acc: 0.8900\n",
      "Epoch 52/100\n",
      "300/300 [==============================] - 1s 3ms/step - loss: 0.0014 - acc: 0.8833\n",
      "Epoch 53/100\n",
      "300/300 [==============================] - 1s 3ms/step - loss: 0.0013 - acc: 0.9000\n",
      "Epoch 54/100\n",
      "300/300 [==============================] - 1s 3ms/step - loss: 0.0013 - acc: 0.9033\n",
      "Epoch 55/100\n",
      "300/300 [==============================] - 1s 3ms/step - loss: 0.0012 - acc: 0.9067\n",
      "Epoch 56/100\n",
      "300/300 [==============================] - 1s 3ms/step - loss: 0.0012 - acc: 0.9267\n",
      "Epoch 57/100\n",
      "300/300 [==============================] - 1s 3ms/step - loss: 0.0012 - acc: 0.9100\n",
      "Epoch 58/100\n",
      "300/300 [==============================] - 1s 3ms/step - loss: 0.0011 - acc: 0.9233\n",
      "Epoch 59/100\n",
      "300/300 [==============================] - 1s 3ms/step - loss: 0.0011 - acc: 0.9233\n",
      "Epoch 60/100\n",
      "300/300 [==============================] - 1s 3ms/step - loss: 0.0010 - acc: 0.9167\n",
      "Epoch 61/100\n",
      "300/300 [==============================] - 1s 3ms/step - loss: 0.0010 - acc: 0.9300\n",
      "Epoch 62/100\n",
      "300/300 [==============================] - 1s 3ms/step - loss: 9.8528e-04 - acc: 0.9333\n",
      "Epoch 63/100\n",
      "300/300 [==============================] - 1s 3ms/step - loss: 9.7143e-04 - acc: 0.9233\n",
      "Epoch 64/100\n",
      "300/300 [==============================] - 1s 3ms/step - loss: 9.6765e-04 - acc: 0.9233\n",
      "Epoch 65/100\n",
      "300/300 [==============================] - 1s 3ms/step - loss: 9.5957e-04 - acc: 0.9400\n",
      "Epoch 66/100\n",
      "300/300 [==============================] - 1s 3ms/step - loss: 9.4324e-04 - acc: 0.9200\n",
      "Epoch 67/100\n",
      "300/300 [==============================] - 1s 3ms/step - loss: 9.1123e-04 - acc: 0.9267\n",
      "Epoch 68/100\n",
      "300/300 [==============================] - 1s 3ms/step - loss: 9.0759e-04 - acc: 0.9367\n",
      "Epoch 69/100\n",
      "300/300 [==============================] - 1s 3ms/step - loss: 8.8963e-04 - acc: 0.9400\n",
      "Epoch 70/100\n",
      "300/300 [==============================] - 1s 3ms/step - loss: 8.6820e-04 - acc: 0.9167\n",
      "Epoch 71/100\n",
      "300/300 [==============================] - 1s 3ms/step - loss: 8.4409e-04 - acc: 0.9333\n",
      "Epoch 72/100\n",
      "300/300 [==============================] - 1s 3ms/step - loss: 8.3902e-04 - acc: 0.9367\n",
      "Epoch 73/100\n",
      "300/300 [==============================] - 1s 3ms/step - loss: 8.4230e-04 - acc: 0.9267\n",
      "Epoch 74/100\n",
      "300/300 [==============================] - 1s 3ms/step - loss: 8.3556e-04 - acc: 0.9133\n",
      "Epoch 75/100\n",
      "300/300 [==============================] - 1s 3ms/step - loss: 8.4945e-04 - acc: 0.9400\n",
      "Epoch 76/100\n",
      "300/300 [==============================] - 1s 3ms/step - loss: 8.0302e-04 - acc: 0.9200\n",
      "Epoch 77/100\n",
      "300/300 [==============================] - 1s 3ms/step - loss: 7.9843e-04 - acc: 0.9500\n",
      "Epoch 78/100\n",
      "300/300 [==============================] - 1s 3ms/step - loss: 8.2416e-04 - acc: 0.9267\n",
      "Epoch 79/100\n",
      "300/300 [==============================] - 1s 3ms/step - loss: 8.5556e-04 - acc: 0.9333\n",
      "Epoch 80/100\n",
      "300/300 [==============================] - 1s 3ms/step - loss: 8.8919e-04 - acc: 0.9267\n",
      "Epoch 81/100\n",
      "300/300 [==============================] - 1s 3ms/step - loss: 8.4169e-04 - acc: 0.9233\n",
      "Epoch 82/100\n",
      "300/300 [==============================] - 1s 3ms/step - loss: 8.0523e-04 - acc: 0.9367\n",
      "Epoch 83/100\n",
      "300/300 [==============================] - 1s 3ms/step - loss: 7.8779e-04 - acc: 0.9233\n",
      "Epoch 84/100\n"
     ]
    },
    {
     "name": "stdout",
     "output_type": "stream",
     "text": [
      "300/300 [==============================] - 1s 3ms/step - loss: 7.4711e-04 - acc: 0.9467\n",
      "Epoch 85/100\n",
      "300/300 [==============================] - 1s 3ms/step - loss: 7.1487e-04 - acc: 0.9267\n",
      "Epoch 86/100\n",
      "300/300 [==============================] - 1s 3ms/step - loss: 7.2283e-04 - acc: 0.9500\n",
      "Epoch 87/100\n",
      "300/300 [==============================] - 1s 3ms/step - loss: 6.8185e-04 - acc: 0.9467\n",
      "Epoch 88/100\n",
      "300/300 [==============================] - 1s 3ms/step - loss: 6.7947e-04 - acc: 0.9467\n",
      "Epoch 89/100\n",
      "300/300 [==============================] - 1s 3ms/step - loss: 7.0353e-04 - acc: 0.9333\n",
      "Epoch 90/100\n",
      "300/300 [==============================] - 1s 3ms/step - loss: 6.8864e-04 - acc: 0.9367\n",
      "Epoch 91/100\n",
      "300/300 [==============================] - 1s 3ms/step - loss: 6.8900e-04 - acc: 0.9467\n",
      "Epoch 92/100\n",
      "300/300 [==============================] - 1s 3ms/step - loss: 0.0116 - acc: 0.7700\n",
      "Epoch 93/100\n",
      "300/300 [==============================] - 1s 3ms/step - loss: 0.0067 - acc: 0.8100\n",
      "Epoch 94/100\n",
      "300/300 [==============================] - 1s 3ms/step - loss: 0.0062 - acc: 0.8067\n",
      "Epoch 95/100\n",
      "300/300 [==============================] - 1s 3ms/step - loss: 0.0028 - acc: 0.8467\n",
      "Epoch 96/100\n",
      "300/300 [==============================] - 1s 3ms/step - loss: 0.0068 - acc: 0.8700\n",
      "Epoch 97/100\n",
      "300/300 [==============================] - 1s 3ms/step - loss: 0.0052 - acc: 0.8467\n",
      "Epoch 98/100\n",
      "300/300 [==============================] - 1s 3ms/step - loss: 0.0030 - acc: 0.8633\n",
      "Epoch 99/100\n",
      "300/300 [==============================] - 1s 3ms/step - loss: 0.0017 - acc: 0.8967\n",
      "Epoch 100/100\n",
      "300/300 [==============================] - 1s 3ms/step - loss: 0.0011 - acc: 0.9200\n"
     ]
    },
    {
     "data": {
      "text/plain": [
       "<keras.callbacks.History at 0x18257b7550>"
      ]
     },
     "execution_count": 61,
     "metadata": {},
     "output_type": "execute_result"
    }
   ],
   "source": [
    "model.compile(optimizer='adam', loss='mean_squared_error' ,metrics=['accuracy'] )\n",
    "model.fit(X_train_reg, Y_train_sorted, batch_size= 16 , epochs=100)"
   ]
  },
  {
   "cell_type": "code",
   "execution_count": 62,
   "metadata": {},
   "outputs": [
    {
     "name": "stdout",
     "output_type": "stream",
     "text": [
      "300/300 [==============================] - 0s 833us/step\n"
     ]
    },
    {
     "data": {
      "text/plain": [
       "[0.032849815239508945, 0.60999999920527137]"
      ]
     },
     "execution_count": 62,
     "metadata": {},
     "output_type": "execute_result"
    }
   ],
   "source": [
    "model.evaluate(X_test_reg, Y_test_sorted)"
   ]
  },
  {
   "cell_type": "markdown",
   "metadata": {},
   "source": [
    "## We can see that by simply sorting our Y_train the same model gives a much higher accuracy reaching 92% for the train and 60% for the test"
   ]
  },
  {
   "cell_type": "markdown",
   "metadata": {},
   "source": [
    "- To have a better view of the result, we plot some of the predicted vales "
   ]
  },
  {
   "cell_type": "code",
   "execution_count": 110,
   "metadata": {},
   "outputs": [],
   "source": [
    "preds_reg_sorted= model.predict(X_test_reg)"
   ]
  },
  {
   "cell_type": "code",
   "execution_count": 163,
   "metadata": {},
   "outputs": [],
   "source": [
    "range_test = list(range(299))"
   ]
  },
  {
   "cell_type": "code",
   "execution_count": 168,
   "metadata": {
    "scrolled": false
   },
   "outputs": [
    {
     "data": {
      "image/png": "[encoded data removed]",
      "text/plain": [
       "<matplotlib.figure.Figure at 0x182603b890>"
      ]
     },
     "metadata": {},
     "output_type": "display_data"
    },
    {
     "data": {
      "image/png": "[encoded data removed]",
      "text/plain": [
       "<matplotlib.figure.Figure at 0x1825c14090>"
      ]
     },
     "metadata": {},
     "output_type": "display_data"
    },
    {
     "data": {
      "image/png": "[encoded data removed]",
      "text/plain": [
       "<matplotlib.figure.Figure at 0x182272f990>"
      ]
     },
     "metadata": {},
     "output_type": "display_data"
    },
    {
     "data": {
      "image/png": "[encoded data removed]",
      "text/plain": [
       "<matplotlib.figure.Figure at 0x183a6caa50>"
      ]
     },
     "metadata": {},
     "output_type": "display_data"
    },
    {
     "data": {
      "image/png": "[encoded data removed]",
      "text/plain": [
       "<matplotlib.figure.Figure at 0x181b3b6ed0>"
      ]
     },
     "metadata": {},
     "output_type": "display_data"
    },
    {
     "data": {
      "image/png": "[encoded data removed]",
      "text/plain": [
       "<matplotlib.figure.Figure at 0x1825c86dd0>"
      ]
     },
     "metadata": {},
     "output_type": "display_data"
    },
    {
     "data": {
      "image/png": "[encoded data removed]",
      "text/plain": [
       "<matplotlib.figure.Figure at 0x183a7c1790>"
      ]
     },
     "metadata": {},
     "output_type": "display_data"
    },
    {
     "data": {
      "image/png": "[encoded data removed]",
      "text/plain": [
       "<matplotlib.figure.Figure at 0x182ae18050>"
      ]
     },
     "metadata": {},
     "output_type": "display_data"
    },
    {
     "data": {
      "image/png": "[encoded data removed]",
      "text/plain": [
       "<matplotlib.figure.Figure at 0x181ffe0a90>"
      ]
     },
     "metadata": {},
     "output_type": "display_data"
    },
    {
     "data": {
      "image/png": "[encoded data removed]",
      "text/plain": [
       "<matplotlib.figure.Figure at 0x183cd27450>"
      ]
     },
     "metadata": {},
     "output_type": "display_data"
    }
   ],
   "source": [
    "idx_img = rd.sample(range_test, 10)\n",
    "for i in idx_img :\n",
    "    visualize_prediction(X_test_reg[i], preds_reg_sorted[i])"
   ]
  },
  {
   "cell_type": "markdown",
   "metadata": {},
   "source": [
    "## The results obtained are not 100% perfect but they fit quite well the general shape of our triangles and capture their location in the figure"
   ]
  },
  {
   "cell_type": "markdown",
   "metadata": {},
   "source": [
    "# -------------------------------------------------------------------------------------------\n",
    "# Bonus Question: "
   ]
  },
  {
   "cell_type": "markdown",
   "metadata": {},
   "source": [
    "## -- Redefine the generate functions "
   ]
  },
  {
   "cell_type": "markdown",
   "metadata": {},
   "source": [
    "For this first part we redefine all the generation function by returning for each a couple composed of one figure generated witouh noise and another one that contains noise"
   ]
  },
  {
   "cell_type": "code",
   "execution_count": 67,
   "metadata": {
    "collapsed": true
   },
   "outputs": [],
   "source": [
    "def generate_a_rectangle_2(noise, free_location=False):\n",
    "    figsize = 1.0    \n",
    "    U = np.zeros(4)\n",
    "    V = np.zeros(4)\n",
    "    if free_location:\n",
    "        corners = np.random.random(4)\n",
    "        top = max(corners[0], corners[1])\n",
    "        bottom = min(corners[0], corners[1])\n",
    "        left = min(corners[2], corners[3])\n",
    "        right = max(corners[2], corners[3])\n",
    "    else:\n",
    "        side = (0.3 + 0.7 * np.random.random()) * figsize\n",
    "        top = figsize/2 + side/2\n",
    "        bottom = figsize/2 - side/2\n",
    "        left = bottom\n",
    "        right = top\n",
    "    U[0] = U[1] = top\n",
    "    U[2] = U[3] = bottom\n",
    "    V[0] = V[3] = left\n",
    "    V[1] = V[2] = right\n",
    "    return generate_a_drawing(figsize, U, V, noise), generate_a_drawing(figsize, U, V, 0) "
   ]
  },
  {
   "cell_type": "code",
   "execution_count": 68,
   "metadata": {
    "collapsed": true
   },
   "outputs": [],
   "source": [
    "def generate_a_disk_2(noise=0.0, free_location=False):\n",
    "    figsize = 1.0\n",
    "    if free_location:\n",
    "        center = np.random.random(2)\n",
    "    else:\n",
    "        center = (figsize/2, figsize/2)\n",
    "    radius = (0.3 + 0.7 * np.random.random()) * figsize/2\n",
    "    N = 50\n",
    "    U = np.zeros(N)\n",
    "    V = np.zeros(N)\n",
    "    i = 0\n",
    "    for t in np.linspace(0, 2*np.pi, N):\n",
    "        U[i] = center[0] + np.cos(t) * radius\n",
    "        V[i] = center[1] + np.sin(t) * radius\n",
    "        i = i + 1\n",
    "    return generate_a_drawing(figsize, U, V, noise) , generate_a_drawing(figsize, U, V, 0) "
   ]
  },
  {
   "cell_type": "code",
   "execution_count": 69,
   "metadata": {
    "collapsed": true
   },
   "outputs": [],
   "source": [
    "def generate_a_triangle_2(noise=0.0, free_location=False):\n",
    "    figsize = 1.0\n",
    "    if free_location:\n",
    "        U = np.random.random(3)\n",
    "        V = np.random.random(3)\n",
    "    else:\n",
    "        size = (0.3 + 0.7 * np.random.random())*figsize/2\n",
    "        middle = figsize/2\n",
    "        U = (middle, middle+size, middle-size)\n",
    "        V = (middle+size, middle-size, middle-size)\n",
    "    \n",
    "    imdata = generate_a_drawing(figsize, U, V, 0)\n",
    "    imdata_noise = generate_a_drawing(figsize, U, V, noise)\n",
    "    return [imdata_noise,imdata, [U[0], V[0], U[1], V[1], U[2], V[2]]]"
   ]
  },
  {
   "cell_type": "code",
   "execution_count": 70,
   "metadata": {},
   "outputs": [
    {
     "data": {
      "image/png": "[encoded data removed]",
      "text/plain": [
       "<matplotlib.figure.Figure at 0x1827b45490>"
      ]
     },
     "metadata": {},
     "output_type": "display_data"
    },
    {
     "data": {
      "image/png": "[encoded data removed]",
      "text/plain": [
       "<matplotlib.figure.Figure at 0x1829b17f50>"
      ]
     },
     "metadata": {},
     "output_type": "display_data"
    }
   ],
   "source": [
    "[im, im_noise, v] = generate_a_triangle_2(100, False)\n",
    "plt.imshow(im.reshape(72,72), cmap='gray')\n",
    "plt.show()\n",
    "plt.imshow(im_noise.reshape(72,72), cmap='gray')\n",
    "plt.show()"
   ]
  },
  {
   "cell_type": "code",
   "execution_count": 81,
   "metadata": {
    "collapsed": true
   },
   "outputs": [],
   "source": [
    "def generate_a_dataset(nb_samples, free_location=False):\n",
    "    # Getting im_size:\n",
    "    im_size = generate_a_rectangle_2(0)[0].shape[0]\n",
    "    X = np.zeros([nb_samples,im_size])   #Images with noise\n",
    "    Y = np.zeros([nb_samples,im_size])   #Images without noise\n",
    "    for i in range(nb_samples):\n",
    "        category = np.random.randint(3)\n",
    "        #Each image is generated with a different random level of noise\n",
    "        noise =rd.randint(20,150)\n",
    "        if category == 0:\n",
    "            X[i] , Y[i]= generate_a_rectangle_2(noise, free_location)\n",
    "        elif category == 1: \n",
    "            X[i] , Y[i]= generate_a_disk_2(noise, free_location)\n",
    "        else:\n",
    "            [X[i], Y[i], V] = generate_a_triangle_2(noise, free_location)\n",
    "    X = (X + 0) / (255 + 2 * 0)\n",
    "    Y = (Y + noise) / (255 + 2 * noise)\n",
    "    return [X, Y]"
   ]
  },
  {
   "cell_type": "code",
   "execution_count": 82,
   "metadata": {},
   "outputs": [],
   "source": [
    "[X_train_noise, Y_train_noise] = generate_a_dataset(300)"
   ]
  },
  {
   "cell_type": "code",
   "execution_count": 83,
   "metadata": {},
   "outputs": [],
   "source": [
    "[X_test_noise, Y_test_noise] = generate_a_dataset(300)"
   ]
  },
  {
   "cell_type": "code",
   "execution_count": 84,
   "metadata": {},
   "outputs": [
    {
     "name": "stdout",
     "output_type": "stream",
     "text": [
      "(300, 72, 72, 1)\n",
      "(300, 72, 72, 1)\n",
      "(300, 72, 72, 1)\n"
     ]
    }
   ],
   "source": [
    "# Formatting the input for the training\n",
    "X_train_noise = X_train_noise.reshape(X_train_noise.shape[0], 72, 72, 1)\n",
    "X_train_noise = X_train_noise.astype('float32')\n",
    "print(X_train_noise.shape)\n",
    "\n",
    "# Formatting the output for the trainind\n",
    "Y_train_noise = Y_train_noise.reshape(Y_train_noise.shape[0], 72, 72, 1)\n",
    "Y_train_noise = Y_train_noise.astype('float32')\n",
    "print(Y_train_noise.shape)\n",
    "\n",
    "\n",
    "# Formatting the input\n",
    "Y_test_noise = Y_test_noise.reshape(Y_test_noise.shape[0], 72, 72, 1)\n",
    "Y_test_noise = Y_test_noise.astype('float32')\n",
    "print(Y_test_noise.shape)"
   ]
  },
  {
   "cell_type": "code",
   "execution_count": 85,
   "metadata": {
    "collapsed": true
   },
   "outputs": [],
   "source": [
    "from keras.layers import Input\n",
    "input_img = Input(shape=(72,72,1))"
   ]
  },
  {
   "cell_type": "markdown",
   "metadata": {},
   "source": [
    "According to the hourglass network architecture, the model should contain 2 part :\n",
    "- An encoded part: that contains a convolutional + a pool layers\n",
    "- A decoder part: that contains an unsampling + convolutional layers\n",
    "\n",
    "The two parts are symetric"
   ]
  },
  {
   "cell_type": "code",
   "execution_count": 86,
   "metadata": {},
   "outputs": [
    {
     "name": "stdout",
     "output_type": "stream",
     "text": [
      "_________________________________________________________________\n",
      "Layer (type)                 Output Shape              Param #   \n",
      "=================================================================\n",
      "input_2 (InputLayer)         (None, 72, 72, 1)         0         \n",
      "_________________________________________________________________\n",
      "conv2d_7 (Conv2D)            (None, 72, 72, 32)        320       \n",
      "_________________________________________________________________\n",
      "max_pooling2d_5 (MaxPooling2 (None, 36, 36, 32)        0         \n",
      "_________________________________________________________________\n",
      "conv2d_8 (Conv2D)            (None, 36, 36, 32)        9248      \n",
      "_________________________________________________________________\n",
      "up_sampling2d_2 (UpSampling2 (None, 72, 72, 32)        0         \n",
      "_________________________________________________________________\n",
      "conv2d_9 (Conv2D)            (None, 72, 72, 1)         289       \n",
      "=================================================================\n",
      "Total params: 9,857\n",
      "Trainable params: 9,857\n",
      "Non-trainable params: 0\n",
      "_________________________________________________________________\n"
     ]
    }
   ],
   "source": [
    "x = Conv2D(32, (3, 3), activation='relu', padding='same')(input_img)\n",
    "encoded = MaxPooling2D((2, 2), padding='same')(x)\n",
    "\n",
    "x = Conv2D(32, (3, 3), activation='relu', padding='same')(encoded)\n",
    "x = UpSampling2D((2, 2))(x)\n",
    "decoded = Conv2D(1, (3, 3), activation='sigmoid', padding='same')(x)\n",
    "\n",
    "autoencoder = Model(input_img, decoded)\n",
    "autoencoder.compile(optimizer='adadelta', loss='binary_crossentropy')\n",
    "autoencoder.summary()"
   ]
  },
  {
   "cell_type": "code",
   "execution_count": 87,
   "metadata": {
    "scrolled": true
   },
   "outputs": [
    {
     "name": "stdout",
     "output_type": "stream",
     "text": [
      "Train on 210 samples, validate on 90 samples\n",
      "Epoch 1/100\n",
      "210/210 [==============================] - 3s 13ms/step - loss: 0.7251 - val_loss: 0.6959\n",
      "Epoch 2/100\n",
      "210/210 [==============================] - 2s 10ms/step - loss: 0.6896 - val_loss: 0.6624\n",
      "Epoch 3/100\n",
      "210/210 [==============================] - 2s 10ms/step - loss: 0.6545 - val_loss: 0.6217\n",
      "Epoch 4/100\n",
      "210/210 [==============================] - 2s 10ms/step - loss: 0.6158 - val_loss: 0.5906\n",
      "Epoch 5/100\n",
      "210/210 [==============================] - 2s 10ms/step - loss: 0.5874 - val_loss: 0.5705\n",
      "Epoch 6/100\n",
      "210/210 [==============================] - 2s 10ms/step - loss: 0.5698 - val_loss: 0.5590\n",
      "Epoch 7/100\n",
      "210/210 [==============================] - 2s 10ms/step - loss: 0.5599 - val_loss: 0.5528\n",
      "Epoch 8/100\n",
      "210/210 [==============================] - 2s 10ms/step - loss: 0.5548 - val_loss: 0.5493\n",
      "Epoch 9/100\n",
      "210/210 [==============================] - 2s 11ms/step - loss: 0.5515 - val_loss: 0.5460\n",
      "Epoch 10/100\n",
      "210/210 [==============================] - 2s 11ms/step - loss: 0.5481 - val_loss: 0.5416\n",
      "Epoch 11/100\n",
      "210/210 [==============================] - 2s 10ms/step - loss: 0.5436 - val_loss: 0.5380\n",
      "Epoch 12/100\n",
      "210/210 [==============================] - 2s 10ms/step - loss: 0.5399 - val_loss: 0.5344\n",
      "Epoch 13/100\n",
      "210/210 [==============================] - 2s 10ms/step - loss: 0.5360 - val_loss: 0.5301\n",
      "Epoch 14/100\n",
      "210/210 [==============================] - 2s 10ms/step - loss: 0.5316 - val_loss: 0.5255\n",
      "Epoch 15/100\n",
      "210/210 [==============================] - 2s 10ms/step - loss: 0.5267 - val_loss: 0.5208\n",
      "Epoch 16/100\n",
      "210/210 [==============================] - 2s 10ms/step - loss: 0.5224 - val_loss: 0.5172\n",
      "Epoch 17/100\n",
      "210/210 [==============================] - 2s 10ms/step - loss: 0.5177 - val_loss: 0.5100\n",
      "Epoch 18/100\n",
      "210/210 [==============================] - 2s 10ms/step - loss: 0.5105 - val_loss: 0.5059\n",
      "Epoch 19/100\n",
      "210/210 [==============================] - 2s 10ms/step - loss: 0.5072 - val_loss: 0.4995\n",
      "Epoch 20/100\n",
      "210/210 [==============================] - 2s 10ms/step - loss: 0.4996 - val_loss: 0.4986\n",
      "Epoch 21/100\n",
      "210/210 [==============================] - 2s 10ms/step - loss: 0.5016 - val_loss: 0.4898\n",
      "Epoch 22/100\n",
      "210/210 [==============================] - 2s 10ms/step - loss: 0.4895 - val_loss: 0.4846\n",
      "Epoch 23/100\n",
      "210/210 [==============================] - 2s 10ms/step - loss: 0.4845 - val_loss: 0.4813\n",
      "Epoch 24/100\n",
      "210/210 [==============================] - 2s 10ms/step - loss: 0.4828 - val_loss: 0.4902\n",
      "Epoch 25/100\n",
      "210/210 [==============================] - 2s 10ms/step - loss: 0.4876 - val_loss: 0.4775\n",
      "Epoch 26/100\n",
      "210/210 [==============================] - 2s 10ms/step - loss: 0.4776 - val_loss: 0.4766\n",
      "Epoch 27/100\n",
      "210/210 [==============================] - 2s 10ms/step - loss: 0.4773 - val_loss: 0.4776\n",
      "Epoch 28/100\n",
      "210/210 [==============================] - 2s 10ms/step - loss: 0.4787 - val_loss: 0.4746\n",
      "Epoch 29/100\n",
      "210/210 [==============================] - 2s 11ms/step - loss: 0.4749 - val_loss: 0.4739\n",
      "Epoch 30/100\n",
      "210/210 [==============================] - 2s 11ms/step - loss: 0.4741 - val_loss: 0.4734\n",
      "Epoch 31/100\n",
      "210/210 [==============================] - 2s 10ms/step - loss: 0.4738 - val_loss: 0.4740\n",
      "Epoch 32/100\n",
      "210/210 [==============================] - 2s 10ms/step - loss: 0.4746 - val_loss: 0.4731\n",
      "Epoch 33/100\n",
      "210/210 [==============================] - 2s 10ms/step - loss: 0.4733 - val_loss: 0.4725\n",
      "Epoch 34/100\n",
      "210/210 [==============================] - 2s 10ms/step - loss: 0.4729 - val_loss: 0.4728\n",
      "Epoch 35/100\n",
      "210/210 [==============================] - 2s 10ms/step - loss: 0.4729 - val_loss: 0.4721\n",
      "Epoch 36/100\n",
      "210/210 [==============================] - 2s 10ms/step - loss: 0.4724 - val_loss: 0.4718\n",
      "Epoch 37/100\n",
      "210/210 [==============================] - 2s 10ms/step - loss: 0.4722 - val_loss: 0.4722\n",
      "Epoch 38/100\n",
      "210/210 [==============================] - 2s 10ms/step - loss: 0.4726 - val_loss: 0.4719\n",
      "Epoch 39/100\n",
      "210/210 [==============================] - 2s 10ms/step - loss: 0.4720 - val_loss: 0.4713\n",
      "Epoch 40/100\n",
      "210/210 [==============================] - 2s 10ms/step - loss: 0.4716 - val_loss: 0.4711\n",
      "Epoch 41/100\n",
      "210/210 [==============================] - 2s 10ms/step - loss: 0.4715 - val_loss: 0.4711\n",
      "Epoch 42/100\n",
      "210/210 [==============================] - 2s 10ms/step - loss: 0.4713 - val_loss: 0.4709\n",
      "Epoch 43/100\n",
      "210/210 [==============================] - 2s 10ms/step - loss: 0.4712 - val_loss: 0.4709\n",
      "Epoch 44/100\n",
      "210/210 [==============================] - 2s 10ms/step - loss: 0.4712 - val_loss: 0.4710\n",
      "Epoch 45/100\n",
      "210/210 [==============================] - 2s 10ms/step - loss: 0.4710 - val_loss: 0.4704\n",
      "Epoch 46/100\n",
      "210/210 [==============================] - 2s 10ms/step - loss: 0.4708 - val_loss: 0.4703\n",
      "Epoch 47/100\n",
      "210/210 [==============================] - 2s 10ms/step - loss: 0.4707 - val_loss: 0.4702\n",
      "Epoch 48/100\n",
      "210/210 [==============================] - 2s 10ms/step - loss: 0.4705 - val_loss: 0.4701\n",
      "Epoch 49/100\n",
      "210/210 [==============================] - 2s 10ms/step - loss: 0.4704 - val_loss: 0.4706\n",
      "Epoch 50/100\n",
      "210/210 [==============================] - 2s 10ms/step - loss: 0.4707 - val_loss: 0.4702\n",
      "Epoch 51/100\n",
      "210/210 [==============================] - 2s 10ms/step - loss: 0.4706 - val_loss: 0.4706\n",
      "Epoch 52/100\n",
      "210/210 [==============================] - 2s 9ms/step - loss: 0.4708 - val_loss: 0.4704\n",
      "Epoch 53/100\n",
      "210/210 [==============================] - 2s 10ms/step - loss: 0.4702 - val_loss: 0.4696\n",
      "Epoch 54/100\n",
      "210/210 [==============================] - 2s 10ms/step - loss: 0.4701 - val_loss: 0.4707\n",
      "Epoch 55/100\n",
      "210/210 [==============================] - 2s 10ms/step - loss: 0.4714 - val_loss: 0.4707\n",
      "Epoch 56/100\n",
      "210/210 [==============================] - 2s 10ms/step - loss: 0.4711 - val_loss: 0.4698\n",
      "Epoch 57/100\n",
      "210/210 [==============================] - 2s 10ms/step - loss: 0.4702 - val_loss: 0.4694\n",
      "Epoch 58/100\n",
      "210/210 [==============================] - 2s 10ms/step - loss: 0.4699 - val_loss: 0.4695\n",
      "Epoch 59/100\n",
      "210/210 [==============================] - 2s 11ms/step - loss: 0.4704 - val_loss: 0.4706\n",
      "Epoch 60/100\n",
      "210/210 [==============================] - 2s 11ms/step - loss: 0.4709 - val_loss: 0.4697\n",
      "Epoch 61/100\n",
      "210/210 [==============================] - 2s 10ms/step - loss: 0.4702 - val_loss: 0.4695\n",
      "Epoch 62/100\n",
      "210/210 [==============================] - 2s 10ms/step - loss: 0.4703 - val_loss: 0.4704\n",
      "Epoch 63/100\n",
      "210/210 [==============================] - 2s 10ms/step - loss: 0.4711 - val_loss: 0.4703\n",
      "Epoch 64/100\n",
      "210/210 [==============================] - 2s 10ms/step - loss: 0.4705 - val_loss: 0.4693\n",
      "Epoch 65/100\n",
      "210/210 [==============================] - 2s 10ms/step - loss: 0.4697 - val_loss: 0.4690\n",
      "Epoch 66/100\n",
      "210/210 [==============================] - 2s 10ms/step - loss: 0.4695 - val_loss: 0.4691\n",
      "Epoch 67/100\n",
      "210/210 [==============================] - 2s 10ms/step - loss: 0.4696 - val_loss: 0.4693\n",
      "Epoch 68/100\n",
      "210/210 [==============================] - 2s 10ms/step - loss: 0.4698 - val_loss: 0.4696\n",
      "Epoch 69/100\n",
      "210/210 [==============================] - 2s 10ms/step - loss: 0.4696 - val_loss: 0.4687\n",
      "Epoch 70/100\n",
      "210/210 [==============================] - 2s 10ms/step - loss: 0.4691 - val_loss: 0.4688\n",
      "Epoch 71/100\n",
      "210/210 [==============================] - 2s 10ms/step - loss: 0.4691 - val_loss: 0.4685\n",
      "Epoch 72/100\n",
      "210/210 [==============================] - 2s 10ms/step - loss: 0.4692 - val_loss: 0.4697\n",
      "Epoch 73/100\n",
      "210/210 [==============================] - 2s 10ms/step - loss: 0.4701 - val_loss: 0.4697\n",
      "Epoch 74/100\n",
      "210/210 [==============================] - 2s 10ms/step - loss: 0.4706 - val_loss: 0.4704\n",
      "Epoch 75/100\n",
      "210/210 [==============================] - 2s 10ms/step - loss: 0.4701 - val_loss: 0.4685\n",
      "Epoch 76/100\n",
      "210/210 [==============================] - 2s 10ms/step - loss: 0.4691 - val_loss: 0.4688\n",
      "Epoch 77/100\n",
      "210/210 [==============================] - 2s 10ms/step - loss: 0.4692 - val_loss: 0.4688\n",
      "Epoch 78/100\n",
      "210/210 [==============================] - 2s 10ms/step - loss: 0.4689 - val_loss: 0.4682\n",
      "Epoch 79/100\n",
      "210/210 [==============================] - 2s 10ms/step - loss: 0.4690 - val_loss: 0.4699\n",
      "Epoch 80/100\n",
      "210/210 [==============================] - 2s 10ms/step - loss: 0.4705 - val_loss: 0.4702\n",
      "Epoch 81/100\n",
      "210/210 [==============================] - 2s 10ms/step - loss: 0.4711 - val_loss: 0.4705\n",
      "Epoch 82/100\n",
      "210/210 [==============================] - 2s 10ms/step - loss: 0.4702 - val_loss: 0.4685\n",
      "Epoch 83/100\n",
      "210/210 [==============================] - 2s 10ms/step - loss: 0.4688 - val_loss: 0.4681\n",
      "Epoch 84/100\n",
      "210/210 [==============================] - 2s 11ms/step - loss: 0.4686 - val_loss: 0.4683\n",
      "Epoch 85/100\n",
      "210/210 [==============================] - 2s 11ms/step - loss: 0.4686 - val_loss: 0.4681\n",
      "Epoch 86/100\n",
      "210/210 [==============================] - 2s 10ms/step - loss: 0.4683 - val_loss: 0.4678\n",
      "Epoch 87/100\n",
      "210/210 [==============================] - 2s 10ms/step - loss: 0.4681 - val_loss: 0.4678\n",
      "Epoch 88/100\n",
      "210/210 [==============================] - 2s 10ms/step - loss: 0.4684 - val_loss: 0.4688\n",
      "Epoch 89/100\n",
      "210/210 [==============================] - 2s 10ms/step - loss: 0.4696 - val_loss: 0.4702\n",
      "Epoch 90/100\n",
      "210/210 [==============================] - 2s 10ms/step - loss: 0.4706 - val_loss: 0.4698\n",
      "Epoch 91/100\n",
      "210/210 [==============================] - 2s 10ms/step - loss: 0.4699 - val_loss: 0.4687\n",
      "Epoch 92/100\n",
      "210/210 [==============================] - 2s 10ms/step - loss: 0.4692 - val_loss: 0.4687\n",
      "Epoch 93/100\n",
      "210/210 [==============================] - 2s 10ms/step - loss: 0.4695 - val_loss: 0.4694\n",
      "Epoch 94/100\n",
      "210/210 [==============================] - 2s 10ms/step - loss: 0.4697 - val_loss: 0.4688\n",
      "Epoch 95/100\n",
      "210/210 [==============================] - 2s 10ms/step - loss: 0.4691 - val_loss: 0.4682\n",
      "Epoch 96/100\n",
      "210/210 [==============================] - 2s 10ms/step - loss: 0.4688 - val_loss: 0.4684\n",
      "Epoch 97/100\n",
      "210/210 [==============================] - 2s 10ms/step - loss: 0.4690 - val_loss: 0.4687\n",
      "Epoch 98/100\n",
      "210/210 [==============================] - 2s 10ms/step - loss: 0.4693 - val_loss: 0.4688\n",
      "Epoch 99/100\n",
      "210/210 [==============================] - 2s 10ms/step - loss: 0.4692 - val_loss: 0.4684\n",
      "Epoch 100/100\n",
      "210/210 [==============================] - 2s 10ms/step - loss: 0.4687 - val_loss: 0.4681\n"
     ]
    },
    {
     "data": {
      "text/plain": [
       "<keras.callbacks.History at 0x1839f07e90>"
      ]
     },
     "execution_count": 87,
     "metadata": {},
     "output_type": "execute_result"
    }
   ],
   "source": [
    "autoencoder.fit(X_train_noise, Y_train_noise,\n",
    "                epochs=100,\n",
    "                batch_size=128,\n",
    "                shuffle=True,\n",
    "                validation_split=0.3)"
   ]
  },
  {
   "cell_type": "code",
   "execution_count": 90,
   "metadata": {
    "collapsed": true
   },
   "outputs": [],
   "source": [
    "pred_noise = autoencoder.predict(X_train_noise)"
   ]
  },
  {
   "cell_type": "code",
   "execution_count": 105,
   "metadata": {
    "scrolled": false
   },
   "outputs": [
    {
     "data": {
      "image/png": "[encoded data removed]",
      "text/plain": [
       "<matplotlib.figure.Figure at 0x1825f8a9d0>"
      ]
     },
     "metadata": {},
     "output_type": "display_data"
    }
   ],
   "source": [
    "nb_img_test = 4\n",
    "pos =1\n",
    "\n",
    "fig, axes = plt.subplots(4, 3,figsize=(5,5))\n",
    "\n",
    "for j in range(nb_img_test):\n",
    "    \n",
    "    i=rd.randint(0,299)   \n",
    "    \n",
    "    axes[j, 0].imshow(X_train_noise[i].reshape(72,72), cmap='gray')\n",
    "    axes[j, 0].set_title('Noise')\n",
    "\n",
    "    axes[j, 1].imshow(Y_train_noise[i].reshape(72,72), cmap='gray')\n",
    "    axes[j, 1].set_title('Real')\n",
    "    \n",
    "    axes[j, 2].imshow(pred_noise[i].reshape(72,72), cmap='gray')\n",
    "    axes[j, 2].set_title('Predicted')"
   ]
  },
  {
   "cell_type": "markdown",
   "metadata": {},
   "source": [
    "We can see that for different levels of noise, the model managed to capture the figure and reduce the noise around it"
   ]
  }
 ],
 "metadata": {
  "kernelspec": {
   "display_name": "Python 2",
   "language": "python",
   "name": "python2"
  },
  "language_info": {
   "codemirror_mode": {
    "name": "ipython",
    "version": 2
   },
   "file_extension": ".py",
   "mimetype": "text/x-python",
   "name": "python",
   "nbconvert_exporter": "python",
   "pygments_lexer": "ipython2",
   "version": "2.7.14"
  }
 },
 "nbformat": 4,
 "nbformat_minor": 2
}
