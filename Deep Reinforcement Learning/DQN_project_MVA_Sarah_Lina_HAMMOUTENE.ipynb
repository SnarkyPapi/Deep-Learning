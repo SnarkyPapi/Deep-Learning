{
 "cells": [
  {
   "cell_type": "markdown",
   "metadata": {},
   "source": [
    "**You may need to install [OpenCV](https://pypi.python.org/pypi/opencv-python) and [scikit-video](http://www.scikit-video.org/stable/).**"
   ]
  },
  {
   "cell_type": "code",
   "execution_count": 21,
   "metadata": {},
   "outputs": [],
   "source": [
    "import keras\n",
    "import numpy as np\n",
    "import io\n",
    "import base64\n",
    "from IPython.display import HTML\n",
    "import skvideo.io\n",
    "import cv2\n",
    "import json\n",
    "import random as rd\n",
    "from collections import deque\n",
    "\n",
    "from keras.models import Sequential,model_from_json\n",
    "from keras.layers.core import Dense\n",
    "from keras.optimizers import sgd, Adam\n",
    "from keras.layers import Conv2D, MaxPooling2D, Activation, AveragePooling2D,Reshape,BatchNormalization, Flatten, Dropout"
   ]
  },
  {
   "cell_type": "markdown",
   "metadata": {},
   "source": [
    "# MiniProject #3: Deep Reinforcement Learning"
   ]
  },
  {
   "cell_type": "markdown",
   "metadata": {},
   "source": [
    "__Notations__: $E_p$ is the expectation under probability $p$. Please justify each of your answer and widely comment your code."
   ]
  },
  {
   "cell_type": "markdown",
   "metadata": {},
   "source": [
    "# Context"
   ]
  },
  {
   "cell_type": "markdown",
   "metadata": {},
   "source": [
    "In a reinforcement learning algorithm, we modelize each step $t$ as an action $a_t$ obtained from a state $s_t$, i.e. $\\{(a_{t},s_{t})_{t\\leq T}\\}$ having the Markov property. We consider a discount factor $\\gamma \\in [0,1]$ that ensures convergence. The goal is to find among all the policies $\\pi$, one that maximizes the expected reward:\n",
    "\n",
    "\\begin{equation*}\n",
    "R(\\pi)=\\sum_{t\\leq T}E_{p^{\\pi}}[\\gamma^t r(s_{t},a_{t})] \\> ,\n",
    "\\end{equation*}\n",
    "\n",
    "where: \n",
    "\\begin{equation*}p^{\\pi}(a_{0},a_{1},s_{1},...,a_{T},s_{T})=p(a_{0})\\prod_{t=1}^{T}\\pi(a_{t}|s_{t})p(s_{t+1}|s_{t},a_{t}) \\> .\n",
    "\\end{equation*}\n",
    "\n",
    "We note the $Q$-function:\n",
    "\n",
    "\\begin{equation*}Q^\\pi(s,a)=E_{p^{\\pi}}[\\sum_{t\\leq T}\\gamma^{t}r(s_{t},a_{t})|s_{0}=s,a_{0}=a] \\> .\n",
    "\\end{equation*}\n",
    "\n",
    "Thus, the optimal Q function is:\n",
    "\\begin{equation*}\n",
    "Q^*(s,a)=\\max_{\\pi}Q^\\pi(s,a) \\> .\n",
    "\\end{equation*}\n",
    "\n",
    "In this project, we will apply the deep reinforcement learning techniques to a simple game: an agent will have to learn from scratch a policy that will permit it maximizing a reward."
   ]
  },
  {
   "cell_type": "markdown",
   "metadata": {},
   "source": [
    "## The environment, the agent and the game"
   ]
  },
  {
   "cell_type": "markdown",
   "metadata": {},
   "source": [
    "### The environment"
   ]
  },
  {
   "cell_type": "markdown",
   "metadata": {},
   "source": [
    "```Environment``` is an abstract class that represents the states, rewards, and actions to obtain the new state."
   ]
  },
  {
   "cell_type": "code",
   "execution_count": 2,
   "metadata": {},
   "outputs": [],
   "source": [
    "class Environment(object):\n",
    "    def __init__(self):\n",
    "        pass\n",
    "\n",
    "    def act(self, act):\n",
    "        \"\"\"\n",
    "        One can act on the environment and obtain its reaction:\n",
    "        - the new state\n",
    "        - the reward of the new state\n",
    "        - should we continue the game?\n",
    "\n",
    "        :return: state, reward, game_over\n",
    "        \"\"\"\n",
    "        pass\n",
    "\n",
    "\n",
    "    def reset(self):\n",
    "        \"\"\"\n",
    "        Reinitialize the environment to a random state and returns\n",
    "        the original state\n",
    "\n",
    "        :return: state\n",
    "        \"\"\"\n",
    "        pass\n",
    "    \n",
    "    def draw(self):\n",
    "        \"\"\"\n",
    "        Visualize in the console or graphically the current state\n",
    "        \"\"\"\n",
    "        pass"
   ]
  },
  {
   "cell_type": "markdown",
   "metadata": {},
   "source": [
    "The method ```act``` allows to act on the environment at a given state $s_t$ (stored internally), via action $a_t$. The method will return the new state $s_{t+1}$, the reward $r(s_{t},a_{t})$ and determines if $t\\leq T$ (*game_over*).\n",
    "\n",
    "The method ```reset``` simply reinitializes the environment to a random state $s_0$.\n",
    "\n",
    "The method ```draw``` displays the current state $s_t$ (this is useful to check the behavior of the Agent).\n",
    "\n",
    "We modelize $s_t$ as a tensor, while $a_t$ is an integer."
   ]
  },
  {
   "cell_type": "markdown",
   "metadata": {},
   "source": [
    "### The Agent"
   ]
  },
  {
   "cell_type": "markdown",
   "metadata": {},
   "source": [
    "The goal of the ```Agent``` is to interact with the ```Environment``` by proposing actions $a_t$ obtained from a given state $s_t$ to attempt to maximize its __reward__ $r(s_t,a_t)$. We propose the following abstract class:"
   ]
  },
  {
   "cell_type": "code",
   "execution_count": 2,
   "metadata": {},
   "outputs": [],
   "source": [
    "class Agent(object):\n",
    "    def __init__(self, epsilon=0.1, n_action=4):\n",
    "        self.epsilon = epsilon\n",
    "        self.n_action = n_action\n",
    "    \n",
    "    def set_epsilon(self,e):\n",
    "        self.epsilon = e\n",
    "    \n",
    "    def get_epsilon(self):\n",
    "        return self.epsilon\n",
    "\n",
    "    def act(self,s,train=True):\n",
    "        \"\"\" This function should return the next action to do:\n",
    "        an integer between 0 and 4 (not included) with a random exploration of epsilon\"\"\"\n",
    "        if train:\n",
    "            if np.random.rand() <= self.epsilon:\n",
    "                a = np.random.randint(0, self.n_action, size=1)[0]\n",
    "            else:\n",
    "                a = self.learned_act(s)\n",
    "        else: # in some cases, this can improve the performance.. remove it if poor performances\n",
    "            a = self.learned_act(s)\n",
    "\n",
    "        return a\n",
    "\n",
    "    def learned_act(self,s):\n",
    "        \"\"\" Act via the policy of the agent, from a given state s\n",
    "        it proposes an action a\"\"\"\n",
    "        pass\n",
    "\n",
    "    def reinforce(self, s, n_s, a, r, game_over_):\n",
    "        \"\"\" This function is the core of the learning algorithm. \n",
    "        It takes as an input the current state s_, the next state n_s_\n",
    "        the action a_ used to move from s_ to n_s_ and the reward r_.\n",
    "        \n",
    "        Its goal is to learn a policy.\n",
    "        \"\"\"\n",
    "        pass\n",
    "\n",
    "    def save(self):\n",
    "        \"\"\" This function returns basic stats if applicable: the\n",
    "        loss and/or the model\"\"\"\n",
    "        pass\n",
    "\n",
    "    def load(self):\n",
    "        \"\"\" This function allows to restore a model\"\"\"\n",
    "        pass"
   ]
  },
  {
   "cell_type": "markdown",
   "metadata": {},
   "source": [
    "***\n",
    "__Question 1__:\n",
    "Explain the function act. Why is ```epsilon``` essential?"
   ]
  },
  {
   "cell_type": "markdown",
   "metadata": {},
   "source": [
    "__Answer 1__:\n",
    "\n",
    "\n",
    "The function act allows the agent to take an action given an observation of the current state of the environment. In the case where there are several actions and we can randomly choose one of them. If we ever happen upon a decent option, we’ll always choose that one in the future, even if there is a way better option available. To overcome this, we use the notion of __exploration__. The problem is that we even after we’ve explored all the options and we know for sure the best option, we still  choose a random action; the exploration doesn’t turn off. \n",
    "\n",
    "The standard way to get exploration is to introduce an additional term, __epsilon__. We then randomly generate a value, and if that value is less than epsilon, a random action is chosen, otherwise we follow the normal tactic of choosing the max Q value, in other words we use the notion of __exploitation__.\n",
    "\n",
    "$$ a^{*} = argmax_{a} Q^{\\pi} (s , a) $$\n",
    "\n",
    "So, epsilon manage the tradeoff between exploration and exploitation thus : \n",
    "\n",
    "- During the exploration phase, the agent uses an epsilon greedy policy. Given a value for epsilon, the agent has a probability of epsilon to choose a random action. Otherwise, the agent will choose the action that has the best reward. This policy allows the agent to explore new possibilities than the one he already consider as the best, wich allows to discover new strategies.\n",
    "\n",
    "- During the exploitation phase, we consider that the agent has explored enough stategies, we stop the epsilon greedy policy and then the agent will always select the action with the best reward."
   ]
  },
  {
   "cell_type": "markdown",
   "metadata": {},
   "source": [
    "***\n",
    "### The Game"
   ]
  },
  {
   "cell_type": "markdown",
   "metadata": {},
   "source": [
    "The ```Agent``` and the ```Environment``` work in an interlaced way as in the following (take some time to understand this code as it is the core of the project)\n",
    "\n",
    "```python\n",
    "\n",
    "epoch = 300\n",
    "env = Environment()\n",
    "agent = Agent()\n",
    "\n",
    "\n",
    "# Number of won games\n",
    "score = 0\n",
    "loss = 0\n",
    "\n",
    "\n",
    "for e in range(epoch):\n",
    "    # At each epoch, we restart to a fresh game and get the initial state\n",
    "    state = env.reset()\n",
    "    # This assumes that the games will end\n",
    "    game_over = False\n",
    "\n",
    "    win = 0\n",
    "    lose = 0\n",
    "    \n",
    "    while not game_over:\n",
    "        # The agent performs an action\n",
    "        action = agent.act(state)\n",
    "\n",
    "        # Apply an action to the environment, get the next state, the reward\n",
    "        # and if the games end\n",
    "        prev_state = state\n",
    "        state, reward, game_over = env.act(action)\n",
    "\n",
    "        # Update the counters\n",
    "        if reward > 0:\n",
    "            win = win + reward\n",
    "        if reward < 0:\n",
    "            lose = lose -reward\n",
    "\n",
    "        # Apply the reinforcement strategy\n",
    "        loss = agent.reinforce(prev_state, state,  action, reward, game_over)\n",
    "\n",
    "    # Save as a mp4\n",
    "    if e % 10 == 0:\n",
    "        env.draw(e)\n",
    "\n",
    "    # Update stats\n",
    "    score += win-lose\n",
    "\n",
    "    print(\"Epoch {:03d}/{:03d} | Loss {:.4f} | Win/lose count {}/{} ({})\"\n",
    "          .format(e, epoch, loss, win, lose, win-lose))\n",
    "    agent.save()\n",
    "```"
   ]
  },
  {
   "cell_type": "markdown",
   "metadata": {},
   "source": [
    "# The game, *eat cheese*"
   ]
  },
  {
   "cell_type": "markdown",
   "metadata": {},
   "source": [
    "A rat runs on an island and tries to eat as much as possible. The island is subdivided into $N\\times N$ cells, in which there are cheese (+0.5) and poisonous cells (-1). The rat has a visibility of 2 cells (thus it can see $5^2$ cells). The rat is given a time $T$ to accumulate as much food as possible. It can perform 4 actions: going up, down, left, right. \n",
    "\n",
    "The goal is to code an agent to solve this task that will learn by trial and error. We propose the following environment:"
   ]
  },
  {
   "cell_type": "code",
   "execution_count": 3,
   "metadata": {},
   "outputs": [],
   "source": [
    "class Environment(object):\n",
    "    def __init__(self, grid_size=10, max_time=500, temperature=0.1):\n",
    "        grid_size = grid_size+4\n",
    "        self.grid_size = grid_size\n",
    "        self.max_time = max_time\n",
    "        self.temperature = temperature\n",
    "\n",
    "        #board on which one plays\n",
    "        self.board = np.zeros((grid_size,grid_size))\n",
    "        self.position = np.zeros((grid_size,grid_size))\n",
    "\n",
    "        # coordinate of the cat\n",
    "        self.x = 0\n",
    "        self.y = 1\n",
    "\n",
    "        # self time\n",
    "        self.t = 0\n",
    "\n",
    "        self.scale=16\n",
    "\n",
    "        self.to_draw = np.zeros((max_time+2, grid_size*self.scale, grid_size*self.scale, 3))\n",
    "\n",
    "\n",
    "    def draw(self,e):\n",
    "        skvideo.io.vwrite(str(e) + '.mp4', self.to_draw)\n",
    "\n",
    "    def get_frame(self,t):\n",
    "        b = np.zeros((self.grid_size,self.grid_size,3))+128\n",
    "        b[self.board>0,0] = 256\n",
    "        b[self.board < 0, 2] = 256\n",
    "        b[self.x,self.y,:]=256\n",
    "        b[-2:,:,:]=0\n",
    "        b[:,-2:,:]=0\n",
    "        b[:2,:,:]=0\n",
    "        b[:,:2,:]=0\n",
    "        \n",
    "        b =  cv2.resize(b, None, fx=self.scale, fy=self.scale, interpolation=cv2.INTER_NEAREST)\n",
    "\n",
    "        self.to_draw[t,:,:,:]=b\n",
    "\n",
    "\n",
    "    def act(self, action):\n",
    "        \"\"\"This function returns the new state, reward and decides if the\n",
    "        game ends.\"\"\"\n",
    "\n",
    "        self.get_frame(int(self.t))\n",
    "\n",
    "        self.position = np.zeros((self.grid_size, self.grid_size))\n",
    "\n",
    "        self.position[0:2,:]= -1\n",
    "        self.position[:,0:2] = -1\n",
    "        self.position[-2:, :] = -1\n",
    "        self.position[:, -2:] = -1\n",
    "\n",
    "        self.position[self.x, self.y] = 1\n",
    "        \n",
    "        if action == 0:\n",
    "            if self.x == self.grid_size-3:\n",
    "                self.x = self.x-1\n",
    "            else:\n",
    "                self.x = self.x + 1\n",
    "        elif action == 1:\n",
    "            if self.x == 2:\n",
    "                self.x = self.x+1\n",
    "            else:\n",
    "                self.x = self.x-1\n",
    "        elif action == 2:\n",
    "            if self.y == self.grid_size - 3:\n",
    "                self.y = self.y - 1\n",
    "            else:\n",
    "                self.y = self.y + 1\n",
    "        elif action == 3:\n",
    "            if self.y == 2:\n",
    "                self.y = self.y + 1\n",
    "            else:\n",
    "                self.y = self.y - 1\n",
    "        else:\n",
    "            RuntimeError('Error: action not recognized')\n",
    "\n",
    "        self.t = self.t + 1\n",
    "        reward = self.board[self.x, self.y]\n",
    "        self.board[self.x, self.y] = 0\n",
    "        game_over = self.t > self.max_time\n",
    "        state = np.concatenate((self.board.reshape(self.grid_size, self.grid_size,1),\n",
    "                                self.position.reshape(self.grid_size, self.grid_size,1)),axis=2)\n",
    "        state = state[self.x-2:self.x+3,self.y-2:self.y+3,:]\n",
    "\n",
    "        return state, reward, game_over\n",
    "\n",
    "    def reset(self):\n",
    "        \"\"\"This function resets the game and returns the initial state\"\"\"\n",
    "\n",
    "        self.x = np.random.randint(3, self.grid_size-3, size=1)[0]\n",
    "        self.y = np.random.randint(3, self.grid_size-3, size=1)[0]\n",
    "\n",
    "\n",
    "        bonus = 0.5*np.random.binomial(1,self.temperature,size=self.grid_size**2)\n",
    "        bonus = bonus.reshape(self.grid_size,self.grid_size)\n",
    "\n",
    "        malus = -1.0*np.random.binomial(1,self.temperature,size=self.grid_size**2)\n",
    "        malus = malus.reshape(self.grid_size, self.grid_size)\n",
    "\n",
    "        self.to_draw = np.zeros((self.max_time+2, self.grid_size*self.scale, self.grid_size*self.scale, 3))\n",
    "\n",
    "\n",
    "        malus[bonus>0]=0\n",
    "\n",
    "        self.board = bonus + malus\n",
    "\n",
    "        self.position = np.zeros((self.grid_size, self.grid_size))\n",
    "        self.position[0:2,:]= -1\n",
    "        self.position[:,0:2] = -1\n",
    "        self.position[-2:, :] = -1\n",
    "        self.position[:, -2:] = -1\n",
    "        self.board[self.x,self.y] = 0\n",
    "        self.t = 0\n",
    "\n",
    "        state = np.concatenate((self.board.reshape(self.grid_size, self.grid_size,1),\n",
    "                                self.position.reshape(self.grid_size, self.grid_size,1)),axis=2)\n",
    "\n",
    "        state = state[self.x - 2:self.x + 3, self.y - 2:self.y + 3, :]\n",
    "        \n",
    "        return state"
   ]
  },
  {
   "cell_type": "markdown",
   "metadata": {},
   "source": [
    "The following elements are important because they correspond to the hyper parameters for this project:"
   ]
  },
  {
   "cell_type": "code",
   "execution_count": 4,
   "metadata": {},
   "outputs": [],
   "source": [
    "# parameters\n",
    "size = 13\n",
    "T=200\n",
    "temperature=0.3\n",
    "epochs_train=20 # set small when debugging\n",
    "epochs_test=20 # set small when debugging\n",
    "\n",
    "# display videos\n",
    "def display_videos(name):\n",
    "    video = io.open(name, 'r+b').read()\n",
    "    encoded = base64.b64encode(video)\n",
    "    return '''<video alt=\"test\" controls>\n",
    "                <source src=\"data:video/mp4;base64,{0}\" type=\"video/mp4\" />\n",
    "             </video>'''.format(encoded.decode('ascii'))"
   ]
  },
  {
   "cell_type": "markdown",
   "metadata": {},
   "source": [
    "__Question 2__ Explain the use of the arrays ```position``` and ```board```."
   ]
  },
  {
   "cell_type": "markdown",
   "metadata": {},
   "source": [
    "\n",
    "__Answer 2__\n",
    "\n",
    "```position``` is the array that contains the position of the rat on the board at a given time. The array is updated for each call of the function __act__  by setting to zeros all the elements except the position of the rat that is set to __1__ and the boarders to __-1__. The goal of the array is to keep track of the position of the mouse and give information about its playground. \n",
    "\n",
    "```board``` is the array that consists of the board on which the rat moves around, it's a view of the rewards.\n",
    "Each of it cells is either neutral or represents the presence of the cheese or the poisonous cells. There informations represents the reward of each action and are represented by respectively 0, 0.5 and -1. \n",
    "The distribution of the reward (0.5 and -1) follows a binomial law that is defined is the __reset__ function. \n",
    "\n",
    "The environment send to the rat a partial view of ```position``` and  ```board``` (visibility of 2 cells from its current position : self.x and self.y)"
   ]
  },
  {
   "cell_type": "markdown",
   "metadata": {},
   "source": [
    "## Random Agent"
   ]
  },
  {
   "cell_type": "markdown",
   "metadata": {},
   "source": [
    "***\n",
    "__Question 3__ Implement a random Agent (only ```learned_act``` needs to be implemented):"
   ]
  },
  {
   "cell_type": "code",
   "execution_count": 6,
   "metadata": {},
   "outputs": [],
   "source": [
    "class RandomAgent(Agent):\n",
    "    def __init__(self):\n",
    "        super(RandomAgent, self).__init__()\n",
    "        pass\n",
    "\n",
    "    def learned_act(self, s):\n",
    "        return rd.randint(0,3)"
   ]
  },
  {
   "cell_type": "markdown",
   "metadata": {},
   "source": [
    "***\n",
    "***\n",
    "__Question 4__ Visualize the game moves. You need to fill in the following function for the evaluation:"
   ]
  },
  {
   "cell_type": "code",
   "execution_count": 5,
   "metadata": {},
   "outputs": [],
   "source": [
    "def test(agent,env,epochs,prefix=''):\n",
    "    # Number of won games\n",
    "    score = 0\n",
    "        \n",
    "    for e in range(epochs):\n",
    "        \n",
    "        # At each epoch, we restart to a fresh game and get the initial state\n",
    "        state = env.reset()\n",
    "        # This assumes that the games will end\n",
    "        game_over = False\n",
    "\n",
    "        win = 0\n",
    "        lose = 0\n",
    "\n",
    "        while not game_over:\n",
    "            # The agent performs an action\n",
    "            action = agent.learned_act(state)\n",
    "\n",
    "            # Apply an action to the environment, get the next state, the reward\n",
    "            # and if the games end\n",
    "            prev_state = state\n",
    "            state, reward, game_over = env.act(action)\n",
    "\n",
    "            # Update the counters\n",
    "            if reward > 0:\n",
    "                win = win + reward\n",
    "            if reward < 0:\n",
    "                lose = lose -reward\n",
    "\n",
    "        # Save as a mp4\n",
    "        env.draw(prefix+str(e))\n",
    "\n",
    "        # Update stats\n",
    "        score = score + win-lose\n",
    "\n",
    "        print(\"Win/lose count {}/{}. Average score ({})\"\n",
    "              .format(win, lose, score/(1+e)))\n",
    "    print('Final score: '+str(score/epochs))"
   ]
  },
  {
   "cell_type": "code",
   "execution_count": 8,
   "metadata": {},
   "outputs": [
    {
     "name": "stdout",
     "output_type": "stream",
     "text": [
      "Win/lose count 9.5/10.0. Average score (-0.5)\n",
      "Win/lose count 9.5/12.0. Average score (-1.5)\n",
      "Win/lose count 9.5/23.0. Average score (-5.5)\n",
      "Win/lose count 8.0/8.0. Average score (-4.125)\n",
      "Win/lose count 11.5/20.0. Average score (-5.0)\n",
      "Win/lose count 10.5/11.0. Average score (-4.25)\n",
      "Win/lose count 11.0/12.0. Average score (-3.78571428571)\n",
      "Win/lose count 5.0/14.0. Average score (-4.4375)\n",
      "Win/lose count 10.0/15.0. Average score (-4.5)\n",
      "Win/lose count 14.5/25.0. Average score (-5.1)\n",
      "Win/lose count 11.0/7.0. Average score (-4.27272727273)\n",
      "Win/lose count 8.0/12.0. Average score (-4.25)\n",
      "Win/lose count 10.0/10.0. Average score (-3.92307692308)\n",
      "Win/lose count 7.0/17.0. Average score (-4.35714285714)\n",
      "Win/lose count 11.0/16.0. Average score (-4.4)\n",
      "Win/lose count 4.5/7.0. Average score (-4.28125)\n",
      "Win/lose count 9.0/12.0. Average score (-4.20588235294)\n",
      "Win/lose count 10.5/14.0. Average score (-4.16666666667)\n",
      "Win/lose count 15.5/16.0. Average score (-3.97368421053)\n",
      "Win/lose count 9.5/13.0. Average score (-3.95)\n",
      "Final score: -3.95\n"
     ]
    },
    {
     "data": {
      "text/html": [
       "<video alt=\"test\" controls>\n",
       "                <source src=\"data:video/mp4;base64,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\" type=\"video/mp4\" />\n",
       "             </video>"
      ],
      "text/plain": [
       "<IPython.core.display.HTML object>"
      ]
     },
     "execution_count": 8,
     "metadata": {},
     "output_type": "execute_result"
    }
   ],
   "source": [
    "# Initialize the game\n",
    "env = Environment(grid_size=size, max_time=T,temperature=temperature)\n",
    "\n",
    "# Initialize the agent!\n",
    "agent = RandomAgent()\n",
    "\n",
    "test(agent,env,epochs_test,prefix='random')\n",
    "HTML(display_videos('random0.mp4'))"
   ]
  },
  {
   "cell_type": "markdown",
   "metadata": {},
   "source": [
    "***\n",
    "## DQN"
   ]
  },
  {
   "cell_type": "markdown",
   "metadata": {},
   "source": [
    "Let us assume here that $T=\\infty$.\n",
    "\n",
    "***\n",
    "__Question 5__ Let $\\pi$ be a policy, show that:\n",
    "\n",
    "\\begin{equation*}\n",
    "Q^{\\pi}(s,a)=E_{(s',a')\\sim p(.|s,a)}[r(s,a)+\\gamma Q^{\\pi}(s',a')]\n",
    "\\end{equation*}\n",
    "\n",
    "Then, show that for the optimal policy $\\pi^*$ (we assume its existence), the following holds: \n",
    "\n",
    "\\begin{equation*}\n",
    "Q^{*}(s,a)=E_{s'\\sim \\pi^*(.|s,a)}[r(s,a)+\\gamma\\max_{a'}Q^{*}(s',a')].\n",
    "\\end{equation*}\n",
    "Finally, deduce that a plausible objective is:\n",
    "\n",
    "\\begin{equation*}\n",
    "\\mathcal{L}(\\theta)=E_{s' \\sim \\pi^*(.|s,a)}\\Vert r+\\gamma\\max\\max_{a'}Q(s',a',\\theta)-Q(s,a,\\theta)\\Vert^{2}.\n",
    "\\end{equation*}\n",
    "\n",
    "\n"
   ]
  },
  {
   "cell_type": "markdown",
   "metadata": {},
   "source": [
    "__Answer 5 __\n",
    "The Q-function is defined such that:\n",
    "\n",
    "\n",
    "\n",
    "The action-value function can be written as\n",
    "<img src=\"proof1.png\" style=\"width:550px\">\n",
    "\n",
    "Thus\n",
    "\\begin{equation*}\n",
    "Q^\\pi(s,a)=E_{p^{\\pi}}[\\sum_{t\\leq T}\\gamma^{t}r(s_{t},a_{t})|s_{0}=s,a_{0}=a] \\> .\n",
    "\\end{equation*}\n",
    "\n",
    "By using the Markov property and defining the function as a Bellman equation we have that:\n",
    "\n",
    "\\begin{equation*}\n",
    "Q^{\\pi}(s,a)=E_{(s',a')\\sim p(.|s,a)}[r(s,a)+\\gamma Q^{\\pi}(s',a')]\n",
    "\\end{equation*}\n",
    "\n",
    "\n",
    "One assumes that the optimal policy $\\pi^*$ exists, the optimal Q function is defined as:\n",
    "\n",
    "\\begin{equation*}\n",
    "Q^*(s,a)=\\max_{\\pi}Q^\\pi(s,a) \\> \n",
    "\\end{equation*}\n",
    "\n",
    "\\begin{equation*}\n",
    "Q^*(s,a)= \\max_{\\pi} E_{(s',a')\\sim p(.|s,a)}[r(s,a)+\\gamma Q^{\\pi}(s',a')] \\> \n",
    "\\end{equation*}\n",
    "\n",
    "\\begin{equation*}\n",
    "Q^*(s,a)= E_{s'\\sim \\pi^*(.|s,a)}[r(s,a)+\\gamma Q^{\\pi^*}(s',a')] \\> \n",
    "\\end{equation*}\n",
    "\n",
    "\\begin{equation*}\n",
    "Q^*(s,a)= E_{s'\\sim \\pi^*(.|s,a)}[r(s,a)+\\gamma\\max_{a'}Q^{*}(s',a')].\n",
    "\\end{equation*}\n",
    "\n",
    "Finally, a plausible objective is to minimize the loss function defined as:\n",
    "\n",
    "\\begin{equation*}\n",
    "\\mathcal{L}(\\theta) = E_{s' \\sim \\pi^*(.|s,a)}( ( Q^* (s,a,\\theta ) - Q(s,a,\\theta)) ^2) \n",
    "\\end{equation*}\n",
    "\n",
    "\\begin{equation*}\n",
    "\\mathcal{L}(\\theta) =  E_{s' \\sim \\pi^*(.|s,a)} ( ( r(s,a)+\\gamma\\max_{a'}Q^{*}(s',a', \\theta) - Q(s,a,\\theta)) ^2) \n",
    "\\end{equation*}\n",
    "\n",
    "\\begin{equation*}\n",
    "\\mathcal{L}(\\theta) = E_{s' \\sim \\pi^*(.|s,a)}\\Vert r+\\gamma\\max\\max_{a'}Q(s',a',\\theta)-Q(s,a,\\theta)\\Vert^{2}.\n",
    "\\end{equation*}"
   ]
  },
  {
   "cell_type": "markdown",
   "metadata": {},
   "source": [
    "***\n",
    "The DQN-learning algorithm relies on these derivations to train the parameters $\\theta$ of a Deep Neural Network:\n",
    "\n",
    "1. At the state $s_t$, select the action $a_t$ with best reward using $Q_t$ and store the results;\n",
    "\n",
    "2. Obtain the new state $s_{t+1}$ from the environment $p$;\n",
    "\n",
    "3. Store $(s_t,a_t,s_{t+1})$;\n",
    "\n",
    "4. Obtain $Q_{t+1}$ by minimizing  $\\mathcal{L}$ from a recovered batch from the previously stored results.\n",
    "\n",
    "***\n",
    "__Question 6__ Implement the class ```Memory``` that stores moves (in a replay buffer) via ```remember``` and provides a ```random_access``` to these. Specify a maximum memory size to avoid side effects. You can for example use a ```list()``` and set by default ```max_memory=100```."
   ]
  },
  {
   "cell_type": "code",
   "execution_count": 6,
   "metadata": {},
   "outputs": [],
   "source": [
    "class Memory(object):\n",
    "    def __init__(self, max_memory=100):\n",
    "        self.max_memory = max_memory\n",
    "        self.memory = deque(maxlen=self.max_memory)        \n",
    "\n",
    "    def remember(self, m):\n",
    "        # move m = list(s_t, s_(t+1), a_t, r_t, game_over)\n",
    "        self.memory.append(m)\n",
    "\n",
    "    def random_access(self):\n",
    "        idx = rd.randint(0,len(self.memory)-1)\n",
    "        return self.memory[idx]"
   ]
  },
  {
   "cell_type": "markdown",
   "metadata": {},
   "source": [
    "***\n",
    "The pipeline we will use for training is given below:"
   ]
  },
  {
   "cell_type": "code",
   "execution_count": 7,
   "metadata": {},
   "outputs": [],
   "source": [
    "def train(agent,env,epoch,prefix=''):\n",
    "    # Number of won games\n",
    "    score = 0\n",
    "    loss = 0\n",
    "\n",
    "    for e in range(epoch):\n",
    "        # At each epoch, we restart to a fresh game and get the initial state\n",
    "        state = env.reset()\n",
    "        # This assumes that the games will terminate\n",
    "        game_over = False\n",
    "\n",
    "        win = 0\n",
    "        lose = 0\n",
    "\n",
    "        while not game_over:\n",
    "            # The agent performs an action\n",
    "            action = agent.act(state)\n",
    "\n",
    "            # Apply an action to the environment, get the next state, the reward\n",
    "            # and if the games end\n",
    "            prev_state = state\n",
    "            state, reward, game_over = env.act(action)\n",
    "\n",
    "            # Update the counters\n",
    "            if reward > 0:\n",
    "                win = win + reward\n",
    "            if reward < 0:\n",
    "                lose = lose -reward\n",
    "\n",
    "            # Apply the reinforcement strategy\n",
    "            loss = agent.reinforce(prev_state, state,  action, reward, game_over)\n",
    "\n",
    "        # Save as a mp4\n",
    "        env.draw(prefix+str(e))\n",
    "\n",
    "        # Update stats\n",
    "        score += win-lose\n",
    "\n",
    "        print(\"Epoch {:03d}/{:03d} | Loss {:.4f} | Win/lose count {}/{} ({})\"\n",
    "              .format(e, epoch, loss, win, lose, win-lose))\n",
    "        agent.save(name_weights=prefix+'model.h5',name_model=prefix+'model.json')\n",
    "        \n",
    "    print('Final score: '+str(score/epoch))"
   ]
  },
  {
   "cell_type": "markdown",
   "metadata": {},
   "source": [
    "***\n",
    "__Question 7__ Implement the DQN training algorithm using a cascade of fully connected layers. You can use different learning rate, batch size or memory size parameters. In particular, the loss might oscillate while the player will start to win the games. You have to find a good criterium."
   ]
  },
  {
   "cell_type": "code",
   "execution_count": 8,
   "metadata": {},
   "outputs": [],
   "source": [
    "class DQN(Agent):\n",
    "    def __init__(self, grid_size,  epsilon = 0.1, memory_size=100, batch_size = 16,n_state=2):\n",
    "        super(DQN, self).__init__(epsilon = epsilon)\n",
    "\n",
    "        # Discount for Q learning\n",
    "        self.discount = 0.99\n",
    "        \n",
    "        self.grid_size = grid_size\n",
    "        \n",
    "        # number of state\n",
    "        self.n_state = n_state\n",
    "\n",
    "        # Memory\n",
    "        self.memory = Memory(memory_size)\n",
    "        \n",
    "        # Batch size when learning\n",
    "        self.batch_size = batch_size\n",
    "    \n",
    "\n",
    "    def learned_act(self, s):\n",
    "        \n",
    "        s = np.reshape(s,[1,5,5,self.n_state])\n",
    "        # Predict the reward value based on the given state\n",
    "        act_values = self.model.predict(s)\n",
    "        return np.argmax(act_values[0])\n",
    "\n",
    "    def reinforce(self, s_, n_s_, a_, r_, game_over_):\n",
    "        # Two steps: first memorize the states, second learn from the pool\n",
    "        \n",
    "        s_ = np.reshape(s_,[1,5,5,self.n_state])\n",
    "        n_s_ = np.reshape(n_s_,[1,5,5,self.n_state])\n",
    "        \n",
    "        self.memory.remember([s_, n_s_, a_, r_, game_over_])\n",
    "        \n",
    "        input_states = np.zeros((self.batch_size, 5,5,self.n_state))\n",
    "        target_q = np.zeros((self.batch_size, 4))\n",
    "\n",
    "        for i in range(self.batch_size):\n",
    "            target = r_\n",
    "            minibatch = self.memory.random_access()\n",
    "            \n",
    "            s_= minibatch[0]\n",
    "            n_s_= minibatch[1]\n",
    "            a_ = minibatch[2]\n",
    "            r_= minibatch[3]\n",
    "            game_over_= minibatch[4]\n",
    "            \n",
    "            input_states[i]= s_\n",
    "            \n",
    "            if game_over_:\n",
    "                target= r_\n",
    "\n",
    "            else:               \n",
    "                target = (r_ + self.discount * np.amax(self.model.predict(n_s_)[0]))\n",
    "                \n",
    "            target_f = self.model.predict(s_)\n",
    "            target_f[0][a_] = target\n",
    "            self.model.fit(s_, target_f, epochs=1, verbose=0)\n",
    "            \n",
    "            target_q[i]=target_f\n",
    "            \n",
    "        # HINT: Clip the target to avoid exploiding gradients.. -- clipping is a bit tighter\n",
    "        target_q = np.clip(target_q, -3, 3)\n",
    "\n",
    "        l = self.model.train_on_batch(input_states, target_q)\n",
    "\n",
    "        return l\n",
    "\n",
    "    def save(self,name_weights='model.h5',name_model='model.json'):\n",
    "        self.model.save_weights(name_weights, overwrite=True)\n",
    "        with open(name_model, \"w\") as outfile:\n",
    "            json.dump(self.model.to_json(), outfile)\n",
    "            \n",
    "    def load(self,name_weights='model.h5',name_model='model.json'):\n",
    "        with open(name_model, \"r\") as jfile:\n",
    "            model = model_from_json(json.load(jfile))\n",
    "        model.load_weights(name_weights)\n",
    "        model.compile(\"sgd\", \"mse\")\n",
    "        self.model = model\n",
    "\n",
    "            \n",
    "\n",
    "class DQN_FC(DQN):\n",
    "    def __init__(self, lr=0.1,  *args, **kwargs):\n",
    "        super(DQN_FC, self).__init__(*args,**kwargs)\n",
    "        \n",
    "        # NN Model\n",
    "        state_size = 50\n",
    "        \n",
    "        model = Sequential()\n",
    "        model.add(Reshape((state_size,), input_shape=(5,5,self.n_state)))\n",
    "        model.add(Dense(512, input_dim=state_size, activation='relu'))\n",
    "        model.add(Dense(128, activation='relu'))\n",
    "        model.add(Dense(4, activation='linear'))\n",
    "        #print(model.summary())\n",
    "        #model.compile(sgd(lr=lr, decay=1e-4, momentum=0.0), \"mse\")\n",
    "        model.compile(loss='mse', optimizer=Adam(lr=lr))\n",
    "        self.model = model\n",
    "        \n",
    "        "
   ]
  },
  {
   "cell_type": "code",
   "execution_count": 12,
   "metadata": {},
   "outputs": [
    {
     "name": "stdout",
     "output_type": "stream",
     "text": [
      "Epoch 000/020 | Loss 29164.7383 | Win/lose count 2.0/4.0 (-2.0)\n",
      "Epoch 001/020 | Loss 115.4741 | Win/lose count 3.5/5.0 (-1.5)\n",
      "Epoch 002/020 | Loss 0.2150 | Win/lose count 5.5/9.0 (-3.5)\n",
      "Epoch 003/020 | Loss 0.0858 | Win/lose count 4.5/7.0 (-2.5)\n",
      "Epoch 004/020 | Loss 0.0694 | Win/lose count 12.0/25.0 (-13.0)\n",
      "Epoch 005/020 | Loss 0.3616 | Win/lose count 7.0/7.0 (0.0)\n",
      "Epoch 006/020 | Loss 0.1292 | Win/lose count 3.0/8.0 (-5.0)\n",
      "Epoch 007/020 | Loss 0.1166 | Win/lose count 5.0/9.0 (-4.0)\n",
      "Epoch 008/020 | Loss 0.0283 | Win/lose count 5.5/11.0 (-5.5)\n",
      "Epoch 009/020 | Loss 0.4636 | Win/lose count 7.5/8.0 (-0.5)\n",
      "Epoch 010/020 | Loss 0.1753 | Win/lose count 7.5/9.0 (-1.5)\n",
      "Epoch 011/020 | Loss 0.3340 | Win/lose count 10.0/17.0 (-7.0)\n",
      "Epoch 012/020 | Loss 0.4331 | Win/lose count 6.0/11.0 (-5.0)\n",
      "Epoch 013/020 | Loss 0.2290 | Win/lose count 7.0/8.0 (-1.0)\n",
      "Epoch 014/020 | Loss 0.3135 | Win/lose count 7.0/12.0 (-5.0)\n",
      "Epoch 015/020 | Loss 0.6157 | Win/lose count 10.0/16.0 (-6.0)\n",
      "Epoch 016/020 | Loss 0.3973 | Win/lose count 6.0/5.0 (1.0)\n",
      "Epoch 017/020 | Loss 0.3084 | Win/lose count 12.0/11.0 (1.0)\n",
      "Epoch 018/020 | Loss 0.6414 | Win/lose count 10.0/15.0 (-5.0)\n",
      "Epoch 019/020 | Loss 1.1433 | Win/lose count 7.5/12.0 (-4.5)\n",
      "Final score: -3.525\n"
     ]
    },
    {
     "data": {
      "text/html": [
       "<video alt=\"test\" controls>\n",
       "                <source src=\"data:video/mp4;base64,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\" type=\"video/mp4\" />\n",
       "             </video>"
      ],
      "text/plain": [
       "<IPython.core.display.HTML object>"
      ]
     },
     "execution_count": 12,
     "metadata": {},
     "output_type": "execute_result"
    }
   ],
   "source": [
    "env = Environment(grid_size=size, max_time=T, temperature=0.3)\n",
    "agent = DQN_FC(lr=0.1, grid_size=size, epsilon = 0.1, memory_size=2000, batch_size = 32)\n",
    "train(agent, env, epochs_train, prefix='fc_train')\n",
    "HTML(display_videos('fc_train0.mp4'))"
   ]
  },
  {
   "cell_type": "code",
   "execution_count": 19,
   "metadata": {},
   "outputs": [
    {
     "name": "stdout",
     "output_type": "stream",
     "text": [
      "\n",
      " rate : 0.01\n",
      "Epoch 000/005 | Loss 14.5782 | Win/lose count 6.0/7.0 (-1.0)\n",
      "Epoch 001/005 | Loss 4.5255 | Win/lose count 3.5/2.0 (1.5)\n",
      "Epoch 002/005 | Loss 0.1347 | Win/lose count 7.5/9.0 (-1.5)\n",
      "Epoch 003/005 | Loss 0.0149 | Win/lose count 4.5/6.0 (-1.5)\n",
      "Epoch 004/005 | Loss 0.0016 | Win/lose count 7.5/12.0 (-4.5)\n",
      "Final score: -1.4\n",
      "\n",
      " rate : 0.05\n",
      "Epoch 000/005 | Loss 108.3145 | Win/lose count 2.5/7.0 (-4.5)\n",
      "Epoch 001/005 | Loss 0.0084 | Win/lose count 7.5/10.0 (-2.5)\n",
      "Epoch 002/005 | Loss 0.0483 | Win/lose count 5.5/8.0 (-2.5)\n",
      "Epoch 003/005 | Loss 0.0395 | Win/lose count 11.5/23.0 (-11.5)\n",
      "Epoch 004/005 | Loss 0.0462 | Win/lose count 6.5/7.0 (-0.5)\n",
      "Final score: -4.3\n",
      "\n",
      " rate : 0.1\n",
      "Epoch 000/005 | Loss 3710.3174 | Win/lose count 5.0/7.0 (-2.0)\n",
      "Epoch 001/005 | Loss 94.5975 | Win/lose count 2.0/3.0 (-1.0)\n",
      "Epoch 002/005 | Loss 115.3315 | Win/lose count 4.5/6.0 (-1.5)\n",
      "Epoch 003/005 | Loss 273.5267 | Win/lose count 5.0/9.0 (-4.0)\n",
      "Epoch 004/005 | Loss 151.0632 | Win/lose count 2.0/5.0 (-3.0)\n",
      "Final score: -2.3\n",
      "\n",
      " rate : 0.2\n",
      "Epoch 000/005 | Loss 5.2695 | Win/lose count 2.0/7.0 (-5.0)\n",
      "Epoch 001/005 | Loss 0.0730 | Win/lose count 3.5/1.0 (2.5)\n",
      "Epoch 002/005 | Loss 0.3314 | Win/lose count 9.0/11.0 (-2.0)\n",
      "Epoch 003/005 | Loss 54.2462 | Win/lose count 5.5/13.0 (-7.5)\n",
      "Epoch 004/005 | Loss 1.9597 | Win/lose count 2.0/3.0 (-1.0)\n",
      "Final score: -2.6\n"
     ]
    }
   ],
   "source": [
    "# We test different learning rates\n",
    "rates= [0.01, 0.05, 0.1, 0.2]\n",
    "for rate in rates:\n",
    "    print(\"\\n rate : {0}\".format(rate)  )\n",
    "    env = Environment(grid_size=size, max_time=T, temperature=0.3)\n",
    "    agent = DQN_FC(lr=rate, grid_size= size,  epsilon = 0.1, memory_size=2000, batch_size = 32)\n",
    "    train(agent, env, 5, prefix='fc_train')"
   ]
  },
  {
   "cell_type": "markdown",
   "metadata": {},
   "source": [
    "***\n",
    "***\n",
    "__Question 8__ Implement the DQN training algorithm using a CNN (for example, 2 convolutional layers and one final fully connected layer)."
   ]
  },
  {
   "cell_type": "code",
   "execution_count": 9,
   "metadata": {},
   "outputs": [],
   "source": [
    "class DQN_CNN(DQN):\n",
    "    def __init__(self, lr=0.1, *args,**kwargs):\n",
    "        super(DQN_CNN, self).__init__(*args,**kwargs)\n",
    "        \n",
    "        filters = 32\n",
    "        kernel_size = (2,2)\n",
    "        \n",
    "        model = Sequential()\n",
    "        model.add(Conv2D(filters, kernel_size, input_shape=(5,5,self.n_state), activation='relu'))\n",
    "        model.add(Conv2D(filters, kernel_size, activation='relu'))\n",
    "        model.add(Dropout(0.2))\n",
    "        model.add(Flatten())\n",
    "        model.add(Dense(4, activation='linear'))\n",
    "        #print(model.summary())\n",
    "        model.compile(sgd(lr=lr, decay=1e-4, momentum=0.0), \"mse\")\n",
    "        self.model = model\n",
    "       "
   ]
  },
  {
   "cell_type": "code",
   "execution_count": 17,
   "metadata": {
    "scrolled": false
   },
   "outputs": [
    {
     "name": "stdout",
     "output_type": "stream",
     "text": [
      "Epoch 000/020 | Loss 0.0172 | Win/lose count 2.5/2.0 (0.5)\n",
      "Epoch 001/020 | Loss 0.0421 | Win/lose count 3.5/4.0 (-0.5)\n",
      "Epoch 002/020 | Loss 0.0182 | Win/lose count 8.0/2.0 (6.0)\n",
      "Epoch 003/020 | Loss 0.0167 | Win/lose count 4.5/4.0 (0.5)\n",
      "Epoch 004/020 | Loss 0.0202 | Win/lose count 7.0/6.0 (1.0)\n",
      "Epoch 005/020 | Loss 0.1698 | Win/lose count 14.0/3.0 (11.0)\n",
      "Epoch 006/020 | Loss 0.1548 | Win/lose count 13.5/6.0 (7.5)\n",
      "Epoch 007/020 | Loss 0.2449 | Win/lose count 23.0/2.0 (21.0)\n",
      "Epoch 008/020 | Loss 0.4458 | Win/lose count 24.0/3.0 (21.0)\n",
      "Epoch 009/020 | Loss 0.1848 | Win/lose count 23.0/6.0 (17.0)\n",
      "Epoch 010/020 | Loss 0.8769 | Win/lose count 20.5/5.0 (15.5)\n",
      "Epoch 011/020 | Loss 0.7117 | Win/lose count 20.5/3.0 (17.5)\n",
      "Epoch 012/020 | Loss 0.5058 | Win/lose count 16.5/4.0 (12.5)\n",
      "Epoch 013/020 | Loss 0.4779 | Win/lose count 10.5/4.0 (6.5)\n",
      "Epoch 014/020 | Loss 0.8960 | Win/lose count 18.5/10.0 (8.5)\n",
      "Epoch 015/020 | Loss 0.2182 | Win/lose count 15.5/3.0 (12.5)\n",
      "Epoch 016/020 | Loss 0.4255 | Win/lose count 12.0/4.0 (8.0)\n",
      "Epoch 017/020 | Loss 0.5957 | Win/lose count 20.5/9.0 (11.5)\n",
      "Epoch 018/020 | Loss 0.5794 | Win/lose count 23.0/6.0 (17.0)\n",
      "Epoch 019/020 | Loss 0.2888 | Win/lose count 23.5/7.0 (16.5)\n",
      "Final score: 10.55\n"
     ]
    },
    {
     "data": {
      "text/html": [
       "<video alt=\"test\" controls>\n",
       "                <source src=\"data:video/mp4;base64,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\" type=\"video/mp4\" />\n",
       "             </video>"
      ],
      "text/plain": [
       "<IPython.core.display.HTML object>"
      ]
     },
     "execution_count": 17,
     "metadata": {},
     "output_type": "execute_result"
    }
   ],
   "source": [
    "env = Environment(grid_size=size, max_time=T, temperature=0.3)\n",
    "agent = DQN_CNN(lr=.1, grid_size = size, epsilon = 0.1, memory_size=2000, batch_size = 32)\n",
    "train(agent,env,epochs_train,prefix='cnn_train')\n",
    "HTML(display_videos('cnn_train0.mp4'))"
   ]
  },
  {
   "cell_type": "code",
   "execution_count": 20,
   "metadata": {},
   "outputs": [
    {
     "name": "stdout",
     "output_type": "stream",
     "text": [
      "\n",
      " rate : 0.01\n",
      "Epoch 000/005 | Loss 0.0017 | Win/lose count 1.5/3.0 (-1.5)\n",
      "Epoch 001/005 | Loss 0.0053 | Win/lose count 2.5/3.0 (-0.5)\n",
      "Epoch 002/005 | Loss 0.0033 | Win/lose count 5.0/3.0 (2.0)\n",
      "Epoch 003/005 | Loss 0.0010 | Win/lose count 4.0/3.0 (1.0)\n",
      "Epoch 004/005 | Loss 0.0067 | Win/lose count 5.5/6.0 (-0.5)\n",
      "Final score: 0.1\n",
      "\n",
      " rate : 0.05\n",
      "Epoch 000/005 | Loss 0.0016 | Win/lose count 1.5/4.0 (-2.5)\n",
      "Epoch 001/005 | Loss 0.0025 | Win/lose count 5.0/5.0 (0.0)\n",
      "Epoch 002/005 | Loss 0.0453 | Win/lose count 1.0/5.0 (-4.0)\n",
      "Epoch 003/005 | Loss 0.0611 | Win/lose count 3.5/0 (3.5)\n",
      "Epoch 004/005 | Loss 0.1203 | Win/lose count 7.0/1.0 (6.0)\n",
      "Final score: 0.6\n",
      "\n",
      " rate : 0.1\n",
      "Epoch 000/005 | Loss 0.0017 | Win/lose count 2.5/5.0 (-2.5)\n",
      "Epoch 001/005 | Loss 0.0049 | Win/lose count 4.0/1.0 (3.0)\n",
      "Epoch 002/005 | Loss 0.0141 | Win/lose count 5.0/2.0 (3.0)\n",
      "Epoch 003/005 | Loss 0.0714 | Win/lose count 5.0/1.0 (4.0)\n",
      "Epoch 004/005 | Loss 0.1123 | Win/lose count 8.0/7.0 (1.0)\n",
      "Final score: 1.7\n",
      "\n",
      " rate : 0.2\n",
      "Epoch 000/005 | Loss 0.0014 | Win/lose count 4.0/3.0 (1.0)\n",
      "Epoch 001/005 | Loss 0.0079 | Win/lose count 5.0/8.0 (-3.0)\n",
      "Epoch 002/005 | Loss 0.0169 | Win/lose count 14.5/10.0 (4.5)\n",
      "Epoch 003/005 | Loss 0.0154 | Win/lose count 14.0/14.0 (0.0)\n",
      "Epoch 004/005 | Loss 0.0125 | Win/lose count 9.5/12.0 (-2.5)\n",
      "Final score: 0.0\n"
     ]
    }
   ],
   "source": [
    "# we test different learning rates\n",
    "rates= [0.01, 0.05, 0.1, 0.2]\n",
    "for rate in rates:\n",
    "    print(\"\\n rate : {0}\".format(rate)  )   \n",
    "    env = Environment(grid_size=size, max_time=T, temperature=0.3)\n",
    "    agent = DQN_CNN(lr=rate, grid_size= size, epsilon = 0.1, memory_size=2000, batch_size = 32)\n",
    "    train(agent,env,5,prefix='cnn_train')"
   ]
  },
  {
   "cell_type": "markdown",
   "metadata": {},
   "source": [
    "***\n",
    "***\n",
    "__Question 9__ Test both algorithms and compare their performances. Which issue(s) do you observe? Observe also different behaviors by changing the temperature."
   ]
  },
  {
   "cell_type": "code",
   "execution_count": 19,
   "metadata": {},
   "outputs": [
    {
     "name": "stdout",
     "output_type": "stream",
     "text": [
      "\n",
      "Test of the CNN\n",
      "Win/lose count 25.0/2.0. Average score (23.0)\n",
      "Win/lose count 14.0/1.0. Average score (18.0)\n",
      "Win/lose count 6.5/0. Average score (14.1666666667)\n",
      "Win/lose count 13.5/0. Average score (14.0)\n",
      "Win/lose count 16.0/0. Average score (14.4)\n",
      "Win/lose count 13.5/1.0. Average score (14.0833333333)\n",
      "Win/lose count 15.0/3.0. Average score (13.7857142857)\n",
      "Win/lose count 17.5/0. Average score (14.25)\n",
      "Win/lose count 7.0/0. Average score (13.4444444444)\n",
      "Win/lose count 3.5/1.0. Average score (12.35)\n",
      "Win/lose count 15.5/2.0. Average score (12.4545454545)\n",
      "Win/lose count 5.5/0. Average score (11.875)\n",
      "Win/lose count 12.0/0. Average score (11.8846153846)\n",
      "Win/lose count 11.0/1.0. Average score (11.75)\n",
      "Win/lose count 9.5/0. Average score (11.6)\n",
      "Win/lose count 10.0/0. Average score (11.5)\n",
      "Win/lose count 6.5/0. Average score (11.2058823529)\n",
      "Win/lose count 21.0/0. Average score (11.75)\n",
      "Win/lose count 16.5/1.0. Average score (11.9473684211)\n",
      "Win/lose count 6.5/1.0. Average score (11.625)\n",
      "Final score: 11.625\n",
      "\n",
      "Test of the FC\n",
      "Win/lose count 0/1.0. Average score (-1.0)\n",
      "Win/lose count 0.5/0. Average score (-0.25)\n",
      "Win/lose count 1.5/1.0. Average score (0.0)\n",
      "Win/lose count 1.5/0. Average score (0.375)\n",
      "Win/lose count 0.5/0. Average score (0.4)\n",
      "Win/lose count 1.5/2.0. Average score (0.25)\n",
      "Win/lose count 3.5/2.0. Average score (0.428571428571)\n",
      "Win/lose count 1.0/0. Average score (0.5)\n",
      "Win/lose count 0.5/1.0. Average score (0.388888888889)\n",
      "Win/lose count 0.5/2.0. Average score (0.2)\n",
      "Win/lose count 1.5/3.0. Average score (0.0454545454545)\n",
      "Win/lose count 0/2.0. Average score (-0.125)\n",
      "Win/lose count 2.5/0. Average score (0.0769230769231)\n",
      "Win/lose count 0.5/1.0. Average score (0.0357142857143)\n",
      "Win/lose count 1.0/2.0. Average score (-0.0333333333333)\n",
      "Win/lose count 0.5/1.0. Average score (-0.0625)\n",
      "Win/lose count 0.5/1.0. Average score (-0.0882352941176)\n",
      "Win/lose count 1.0/0. Average score (-0.0277777777778)\n",
      "Win/lose count 0/1.0. Average score (-0.0789473684211)\n",
      "Win/lose count 2.0/2.0. Average score (-0.075)\n",
      "Final score: -0.075\n"
     ]
    }
   ],
   "source": [
    "env = Environment(grid_size=size, max_time=T,temperature=0.3)\n",
    "agent_cnn = DQN_CNN(lr=.1, grid_size=size, epsilon = 0.1, memory_size=2000, batch_size = 32)\n",
    "agent_cnn.load(name_weights='cnn_trainmodel.h5',name_model='cnn_trainmodel.json')\n",
    "\n",
    "agent_fc = DQN_FC(lr=.1, grid_size=size, epsilon = 0.1, memory_size=2000, batch_size = 32)\n",
    "agent_fc.load(name_weights='fc_trainmodel.h5',name_model='fc_trainmodel.json')\n",
    "print('\\nTest of the CNN')\n",
    "test(agent_cnn,env,epochs_test,prefix='cnn_test')\n",
    "print('\\nTest of the FC')\n",
    "test(agent_fc,env,epochs_test,prefix='fc_test')"
   ]
  },
  {
   "cell_type": "code",
   "execution_count": 20,
   "metadata": {},
   "outputs": [
    {
     "data": {
      "text/html": [
       "<video alt=\"test\" controls>\n",
       "                <source src=\"data:video/mp4;base64,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\" type=\"video/mp4\" />\n",
       "             </video>"
      ],
      "text/plain": [
       "<IPython.core.display.HTML object>"
      ]
     },
     "execution_count": 20,
     "metadata": {},
     "output_type": "execute_result"
    }
   ],
   "source": [
    "HTML(display_videos('cnn_test10.mp4'))"
   ]
  },
  {
   "cell_type": "code",
   "execution_count": 21,
   "metadata": {},
   "outputs": [
    {
     "data": {
      "text/html": [
       "<video alt=\"test\" controls>\n",
       "                <source src=\"data:video/mp4;base64,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\" type=\"video/mp4\" />\n",
       "             </video>"
      ],
      "text/plain": [
       "<IPython.core.display.HTML object>"
      ]
     },
     "execution_count": 21,
     "metadata": {},
     "output_type": "execute_result"
    }
   ],
   "source": [
    "HTML(display_videos('fc_test10.mp4'))"
   ]
  },
  {
   "cell_type": "markdown",
   "metadata": {},
   "source": [
    "- __Observations__:  the agent doesn't explore other areas and most of the time it sticks to the current board, so we have a low exploration rate. However, we can notice that the results given by the CNN are better than the ones given by the FC model\n",
    "\n",
    "\n",
    "- __By changing the temperature__ : we are actually changing the probability of the binomial low. We notice that we improve the final score, but it is biased because by doing so we increase the probability of having cheese and we lower the probility of poisonious cells\n"
   ]
  },
  {
   "cell_type": "markdown",
   "metadata": {},
   "source": [
    "***\n",
    "\n",
    "The algorithm tends to not explore the map which can be an issue. We propose two ideas in order to encourage exploration:\n",
    "1. Incorporating a decreasing $\\epsilon$-greedy exploration. You can use the method ```set_epsilon```\n",
    "2. Append via the environment a new state that describes if a cell has been visited or not\n",
    "\n",
    "***\n",
    "__Question 10__ Design a new ```train_explore``` function and environment class ```EnvironmentExploring``` to tackle the issue of exploration.\n",
    "\n"
   ]
  },
  {
   "cell_type": "code",
   "execution_count": 10,
   "metadata": {},
   "outputs": [],
   "source": [
    "def train_explore(agent,env,epoch,prefix=''):\n",
    "    # Number of won games\n",
    "    score = 0\n",
    "    loss = 0\n",
    "\n",
    "    \n",
    "    for e in range(epoch):\n",
    "        # At each epoch, we restart to a fresh game and get the initial state\n",
    "        state = env.reset()\n",
    "        # This assumes that the games will terminate\n",
    "        game_over = False\n",
    "\n",
    "        win = 0\n",
    "        lose = 0\n",
    "\n",
    "        while not game_over:\n",
    "            \n",
    "            # Epsilon-greedy \n",
    "            agent.set_epsilon(np.float(agent.get_epsilon())*0.995)\n",
    "            \n",
    "            # The agent performs an action\n",
    "            action = agent.act(state)\n",
    "\n",
    "            # Apply an action to the environment, get the next state, the reward\n",
    "            # and if the games end\n",
    "            prev_state = state\n",
    "            state, reward, game_over = env.act(action, train=True)\n",
    "\n",
    "            # Update the counters\n",
    "            if reward > 0:\n",
    "                win = win + reward\n",
    "            if reward < 0:\n",
    "                lose = lose - reward\n",
    "\n",
    "            # Apply the reinforcement strategy\n",
    "            loss = agent.reinforce(prev_state, state,  action, reward, game_over)\n",
    "            \n",
    "        # Save as a mp4       \n",
    "        env.draw(prefix+str(e))\n",
    "\n",
    "        # Update stats\n",
    "        score += win-lose\n",
    "\n",
    "        print(\"Epoch {:03d}/{:03d} | Loss {:.4f} | Win/lose count {}/{} ({})\"\n",
    "              .format(e, epoch, loss, win, lose, win-lose))\n",
    "        agent.save(name_weights=prefix+'model.h5',name_model=prefix+'model.json')\n",
    "        \n",
    "    print('Final score: '+str(score/epoch))\n",
    "        \n",
    "class EnvironmentExploring(object):\n",
    "    def __init__(self, grid_size=10, max_time=500, temperature=0.1):\n",
    "        grid_size = grid_size + 4\n",
    "        self.grid_size = grid_size\n",
    "        self.max_time = max_time\n",
    "        self.temperature = temperature\n",
    "        \n",
    "        self.board = np.zeros([grid_size,grid_size])\n",
    "        self.position = np.zeros([grid_size,grid_size])\n",
    "        self.malus_position = np.zeros([grid_size,grid_size])\n",
    "        \n",
    "        # coordinate of the rat\n",
    "        self.x = 0\n",
    "        self.y = 1\n",
    "        \n",
    "        # self time\n",
    "        self.t = 0\n",
    "\n",
    "        self.scale=16\n",
    "\n",
    "        self.to_draw = np.zeros((max_time+2, grid_size*self.scale, grid_size*self.scale, 3))\n",
    "        \n",
    "    def get_t(self):\n",
    "        return self.t\n",
    "    \n",
    "    def draw(self,e):\n",
    "        skvideo.io.vwrite(str(e) + '.mp4', self.to_draw)\n",
    "\n",
    "    def get_frame(self,t):\n",
    "        b = np.zeros((self.grid_size,self.grid_size,3))+128\n",
    "        b[self.board>0,0] = 256\n",
    "        b[self.board < 0, 2] = 256\n",
    "        b[self.x,self.y,:]=256\n",
    "        b[-2:,:,:]=0\n",
    "        b[:,-2:,:]=0\n",
    "        b[:2,:,:]=0\n",
    "        b[:,:2,:]=0\n",
    "        \n",
    "        b =  cv2.resize(b, None, fx=self.scale, fy=self.scale, interpolation=cv2.INTER_NEAREST)\n",
    "\n",
    "        self.to_draw[t,:,:,:]=b\n",
    "             \n",
    "        \n",
    "    def act(self, action, train=True):\n",
    "        \"\"\"This function returns the new state, reward and decides if the\n",
    "        game ends.\"\"\"\n",
    "\n",
    "        self.get_frame(int(self.t))\n",
    "\n",
    "        self.position = np.zeros((self.grid_size, self.grid_size))\n",
    "\n",
    "        self.position[0:2,:]= -1\n",
    "        self.position[:,0:2] = -1\n",
    "        self.position[-2:, :] = -1\n",
    "        self.position[:, -2:] = -1\n",
    "\n",
    "        self.position[self.x, self.y] = 1\n",
    "        \n",
    "        if action == 0:\n",
    "            if self.x == self.grid_size-3:\n",
    "                self.x = self.x-1\n",
    "            else:\n",
    "                self.x = self.x + 1\n",
    "        elif action == 1:\n",
    "            if self.x == 2:\n",
    "                self.x = self.x+1\n",
    "            else:\n",
    "                self.x = self.x-1\n",
    "        elif action == 2:\n",
    "            if self.y == self.grid_size - 3:\n",
    "                self.y = self.y - 1\n",
    "            else:\n",
    "                self.y = self.y + 1\n",
    "        elif action == 3:\n",
    "            if self.y == 2:\n",
    "                self.y = self.y + 1\n",
    "            else:\n",
    "                self.y = self.y - 1\n",
    "        else:\n",
    "            RuntimeError('Error: action not recognized')\n",
    "        \n",
    "        self.t = self.t + 1\n",
    "        \n",
    "        ## In Environment exploring:\n",
    "        # You will have to change n_state to 3 because you will use one more layer!\n",
    "        reward = 0\n",
    "        if train:\n",
    "            reward -= self.malus_position[self.x, self.y]\n",
    "\n",
    "        self.malus_position[self.x, self.y] = 0.01\n",
    "        reward = reward + self.board[self.x, self.y]\n",
    "        self.board[self.x, self.y] = 0\n",
    "        game_over = self.t > self.max_time\n",
    "\n",
    "        # 3 \"feature\" states instead of 2\n",
    "        state = np.concatenate((self.malus_position.reshape(self.grid_size, self.grid_size,1),\n",
    "                                self.board.reshape(self.grid_size, self.grid_size,1),\n",
    "                                self.position.reshape(self.grid_size, self.grid_size,1)),axis=2)\n",
    "        \n",
    "        state = state[self.x-2:self.x+3,self.y-2:self.y+3,:]\n",
    "        \n",
    "        return state, reward, game_over\n",
    "    \n",
    "    \n",
    "    def reset(self):\n",
    "        \"\"\"This function resets the game and returns the initial state\"\"\"\n",
    "\n",
    "        self.x = np.random.randint(3, self.grid_size-3, size=1)[0]\n",
    "        self.y = np.random.randint(3, self.grid_size-3, size=1)[0]\n",
    "\n",
    "\n",
    "        bonus = 0.5*np.random.binomial(1,self.temperature,size=self.grid_size**2)\n",
    "        bonus = bonus.reshape(self.grid_size,self.grid_size)\n",
    "\n",
    "        malus = -1.0*np.random.binomial(1,self.temperature,size=self.grid_size**2)\n",
    "        malus = malus.reshape(self.grid_size, self.grid_size)\n",
    "\n",
    "        self.to_draw = np.zeros((self.max_time+2, self.grid_size*self.scale, self.grid_size*self.scale, 3))\n",
    "\n",
    "\n",
    "        malus[bonus>0]=0\n",
    "\n",
    "        self.board = bonus + malus\n",
    "\n",
    "        self.position = np.zeros((self.grid_size, self.grid_size))\n",
    "        self.position[0:2,:]= -1\n",
    "        self.position[:,0:2] = -1\n",
    "        self.position[-2:, :] = -1\n",
    "        self.position[:, -2:] = -1\n",
    "        self.board[self.x,self.y] = 0\n",
    "       \n",
    "        self.malus_position[self.x, self.y] = 0\n",
    "\n",
    "        self.t = 0\n",
    "\n",
    "        state = np.concatenate((self.malus_position.reshape(self.grid_size, self.grid_size,1),\n",
    "                                self.board.reshape(self.grid_size, self.grid_size,1),\n",
    "                                self.position.reshape(self.grid_size, self.grid_size,1)),axis=2)\n",
    "\n",
    "        state = state[self.x - 2:self.x + 3, self.y - 2:self.y + 3, :]\n",
    "        \n",
    "        return state"
   ]
  },
  {
   "cell_type": "code",
   "execution_count": 11,
   "metadata": {},
   "outputs": [
    {
     "name": "stdout",
     "output_type": "stream",
     "text": [
      "Epoch 000/020 | Loss 0.0721 | Win/lose count 7.5/14.44 (-6.94)\n",
      "Epoch 001/020 | Loss 0.1250 | Win/lose count 5.96/7.66 (-1.7)\n",
      "Epoch 002/020 | Loss 0.1701 | Win/lose count 11.85/3.71 (8.14)\n",
      "Epoch 003/020 | Loss 0.3154 | Win/lose count 21.2/2.53 (18.67)\n",
      "Epoch 004/020 | Loss 0.3159 | Win/lose count 15.73/2.63 (13.1)\n",
      "Epoch 005/020 | Loss 0.7005 | Win/lose count 17.25/2.64 (14.61)\n",
      "Epoch 006/020 | Loss 0.3867 | Win/lose count 18.16/2.61 (15.55)\n",
      "Epoch 007/020 | Loss 0.6885 | Win/lose count 20.14/3.56 (16.58)\n",
      "Epoch 008/020 | Loss 0.5714 | Win/lose count 16.69/2.66 (14.03)\n",
      "Epoch 009/020 | Loss 0.6887 | Win/lose count 15.21/2.67 (12.54)\n",
      "Epoch 010/020 | Loss 0.7056 | Win/lose count 18.15/1.61 (16.54)\n",
      "Epoch 011/020 | Loss 0.5321 | Win/lose count 17.16/4.66 (12.5)\n",
      "Epoch 012/020 | Loss 0.5437 | Win/lose count 8.33/1.84 (6.49)\n",
      "Epoch 013/020 | Loss 0.5830 | Win/lose count 29.41/2.41 (27.0)\n",
      "Epoch 014/020 | Loss 0.4526 | Win/lose count 16.19/2.68 (13.51)\n",
      "Epoch 015/020 | Loss 0.7574 | Win/lose count 11.76/1.76 (10.0)\n",
      "Epoch 016/020 | Loss 0.4751 | Win/lose count 19.12/2.61 (16.51)\n",
      "Epoch 017/020 | Loss 0.7155 | Win/lose count 13.72/1.73 (11.99)\n",
      "Epoch 018/020 | Loss 0.6769 | Win/lose count 12.26/3.76 (8.5)\n",
      "Epoch 019/020 | Loss 0.4341 | Win/lose count 20.09/2.59 (17.5)\n",
      "Final score: 12.256000000000013\n"
     ]
    }
   ],
   "source": [
    "# Training\n",
    "env = EnvironmentExploring(grid_size=size, max_time=T, temperature=0.3)\n",
    "agent = DQN_CNN(lr=.1, grid_size=size,  epsilon = 1, memory_size=16000, batch_size = 32,n_state=3)\n",
    "train_explore(agent, env, epochs_train, prefix='cnn_train_explore')"
   ]
  },
  {
   "cell_type": "code",
   "execution_count": 14,
   "metadata": {},
   "outputs": [
    {
     "data": {
      "text/html": [
       "<video alt=\"test\" controls>\n",
       "                <source src=\"data:video/mp4;base64,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\" type=\"video/mp4\" />\n",
       "             </video>"
      ],
      "text/plain": [
       "<IPython.core.display.HTML object>"
      ]
     },
     "execution_count": 14,
     "metadata": {},
     "output_type": "execute_result"
    }
   ],
   "source": [
    "HTML(display_videos('cnn_train_explore19.mp4'))"
   ]
  },
  {
   "cell_type": "code",
   "execution_count": 15,
   "metadata": {},
   "outputs": [
    {
     "name": "stdout",
     "output_type": "stream",
     "text": [
      "Win/lose count 12.74/1.74. Average score (11.0)\n",
      "Win/lose count 6.37/1.88. Average score (7.745)\n",
      "Win/lose count 14.23/1.72. Average score (9.33333333333)\n",
      "Win/lose count 15.2/2.7. Average score (10.125)\n",
      "Win/lose count 7.84/2.85. Average score (9.098)\n",
      "Win/lose count 16.67/2.67. Average score (9.915)\n",
      "Win/lose count 22.55/2.55. Average score (11.3557142857)\n",
      "Win/lose count 5.88/1.89. Average score (10.435)\n",
      "Win/lose count 11.28/2.78. Average score (10.22)\n",
      "Win/lose count 19.11/3.59. Average score (10.75)\n",
      "Win/lose count 19.13/1.61. Average score (11.3654545455)\n",
      "Win/lose count 13.72/1.73. Average score (11.4175)\n",
      "Win/lose count 15.68/1.68. Average score (11.6161538462)\n",
      "Win/lose count 19.61/3.6. Average score (11.93)\n",
      "Win/lose count 12.75/2.74. Average score (11.802)\n",
      "Win/lose count 15.68/1.69. Average score (11.93875)\n",
      "Win/lose count 3.92/1.93. Average score (11.3535294118)\n",
      "Win/lose count 6.86/1.87. Average score (11.0)\n",
      "Win/lose count 19.12/1.62. Average score (11.3421052632)\n",
      "Win/lose count 7.36/2.86. Average score (11.0)\n",
      "Final score: 11.000000000000009\n"
     ]
    }
   ],
   "source": [
    "# Evaluation\n",
    "test(agent,env,epochs_test,prefix='cnn_test_explore')"
   ]
  },
  {
   "cell_type": "code",
   "execution_count": 18,
   "metadata": {},
   "outputs": [
    {
     "data": {
      "text/html": [
       "<video alt=\"test\" controls>\n",
       "                <source src=\"data:video/mp4;base64,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\" type=\"video/mp4\" />\n",
       "             </video>"
      ],
      "text/plain": [
       "<IPython.core.display.HTML object>"
      ]
     },
     "execution_count": 18,
     "metadata": {},
     "output_type": "execute_result"
    }
   ],
   "source": [
    "HTML(display_videos('cnn_test_explore10.mp4'))"
   ]
  },
  {
   "cell_type": "markdown",
   "metadata": {},
   "source": [
    "***\n",
    "***\n",
    "__BONUS question__ Use the expert DQN from the previous question to generate some winning games. Train a model that mimicks its behavior. Compare the performances."
   ]
  },
  {
   "cell_type": "markdown",
   "metadata": {},
   "source": []
  },
  {
   "cell_type": "markdown",
   "metadata": {},
   "source": [
    "***"
   ]
  }
 ],
 "metadata": {
  "kernelspec": {
   "display_name": "Python 2",
   "language": "python",
   "name": "python2"
  },
  "language_info": {
   "codemirror_mode": {
    "name": "ipython",
    "version": 2
   },
   "file_extension": ".py",
   "mimetype": "text/x-python",
   "name": "python",
   "nbconvert_exporter": "python",
   "pygments_lexer": "ipython2",
   "version": "2.7.14"
  }
 },
 "nbformat": 4,
 "nbformat_minor": 2
}
